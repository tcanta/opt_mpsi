{
 "cells": [
  {
   "cell_type": "markdown",
   "metadata": {
    "deletable": false,
    "editable": false,
    "nbgrader": {
     "cell_type": "markdown",
     "checksum": "aa5c725fffc3de7c6d69095b9acde1d3",
     "grade": false,
     "grade_id": "cell-a9c06757dd73ffdc",
     "locked": true,
     "schema_version": 3,
     "solution": false,
     "task": false
    }
   },
   "source": [
    "La cellule suivante sert à charger les fonctions nécessaires à l'exécution des tests pour les fonctions du TP. N'oubliez donc pas de l'exécuter."
   ]
  },
  {
   "cell_type": "code",
   "execution_count": 1,
   "metadata": {
    "deletable": false,
    "editable": false,
    "nbgrader": {
     "cell_type": "code",
     "checksum": "4661f7e300d9892871566e975b6b4a89",
     "grade": false,
     "grade_id": "cell-1629caaec89942c2",
     "locked": true,
     "schema_version": 3,
     "solution": false,
     "task": false
    }
   },
   "outputs": [
    {
     "data": {
      "text/plain": [
       "- : unit = ()\n"
      ]
     },
     "execution_count": 1,
     "metadata": {},
     "output_type": "execute_result"
    },
    {
     "data": {
      "text/plain": [
       "module Utils :\n",
       "  sig\n",
       "    val fonction_test : string -> bool -> bool\n",
       "    val test_liste :\n",
       "      ('a -> 'b -> bool) ->\n",
       "      ('c -> string) -> ('c -> 'a) -> ('c * 'b) list -> unit\n",
       "    val test_liste_avec_nom :\n",
       "      ('a -> 'b -> bool) -> ('c -> 'a) -> (string * 'c * 'b) list -> unit\n",
       "    val uncurry2 : ('a -> 'b -> 'c) -> 'a * 'b -> 'c\n",
       "    val uncurry3 : ('a -> 'b -> 'c -> 'd) -> 'a * 'b * 'c -> 'd\n",
       "    val print_int_liste : int list -> string\n",
       "    val print_int_array : int array -> string\n",
       "    val shuffle : 'a array -> unit\n",
       "    val perm_alea : int -> int array\n",
       "  end\n"
      ]
     },
     "execution_count": 1,
     "metadata": {},
     "output_type": "execute_result"
    },
    {
     "data": {
      "text/plain": [
       "module Test :\n",
       "  sig\n",
       "    val est_permutation : (int array -> bool) -> unit\n",
       "    val support : (int array -> int list) -> unit\n",
       "    val compose : (int array -> int array -> int array) -> unit\n",
       "    val indice_max_croit : (int array -> int) -> unit\n",
       "    val suivant : (int array -> 'a) -> unit\n",
       "    val compose_cycle : (int list -> int array -> 'a) -> unit\n",
       "    val produit_cycles : (int list list -> int -> int array) -> unit\n",
       "    val cycles : (int array -> int list list) -> unit\n",
       "  end\n"
      ]
     },
     "execution_count": 1,
     "metadata": {},
     "output_type": "execute_result"
    }
   ],
   "source": [
    "Random.self_init ();;\n",
    "\n",
    "module Utils = struct\n",
    "  let fonction_test nom b =\n",
    "    let () = print_endline (Printf.sprintf \"%s : %s\" nom (if b then \"\\027[1m\\027[32mOK\\027[0m\" else \"\\027[1m\\027[31méchec\\027[0m\"))\n",
    "    in b\n",
    "\n",
    "  let rec test_liste comp pretty_print f lst  =    \n",
    "    let rec loop lst ok total =\n",
    "      match lst with\n",
    "      | [] -> ok, total\n",
    "      | (t,tt)::q ->\n",
    "        loop q (ok + if fonction_test (pretty_print t) (comp (f t) tt) then 1 else 0) (total + 1) \n",
    "    in     \n",
    "    let ok, total = loop lst 0 0 in\n",
    "    print_endline (Printf.sprintf \"%i/%i tests réussis\" ok total)\n",
    "     \n",
    "  let rec test_liste_avec_nom comp f lst = \n",
    "    let rec loop lst ok total =\n",
    "      match lst with\n",
    "      | [] -> ok, total\n",
    "      | (nom, t, tt)::q ->\n",
    "        loop q (ok + if fonction_test nom (comp (f t) tt) then 1 else 0) (total + 1) \n",
    "    in     \n",
    "    let ok, total = loop lst 0 0 in\n",
    "    print_endline (Printf.sprintf \"%i/%i tests réussis\" ok total)\n",
    "    \n",
    "  let uncurry2 f (x,y) = f x y      \n",
    "  let uncurry3 f (x,y,z) = f x y z\n",
    "\n",
    "  let print_int_liste l = List.map string_of_int  l |> String.concat \"; \" |> Printf.sprintf \"[%s]\"      \n",
    "  let print_int_array a = Array.to_list a |> List.map string_of_int |> String.concat \"; \" |> Printf.sprintf \"[|%s|]\"\n",
    "      \n",
    "  let shuffle a =\n",
    "      let n = Array.length a in\n",
    "      for i = n - 1 downto 1 do\n",
    "        let k = Random.int (i+1) in let x = a.(k) in a.(k) <- a.(i); a.(i) <- x\n",
    "      done\n",
    "      \n",
    "  let rec perm_alea n = let t = Array.init n (fun i -> i) in shuffle t;  t  \n",
    "  \n",
    "end \n",
    "\n",
    "module Test = struct  \n",
    "  let est_permutation f = \n",
    "    let pretty_print a = Printf.sprintf \"Tableau %s\" (Utils.print_int_array a) in\n",
    "    let tests = List.init 5 (fun i -> (Utils.perm_alea (i+3), true)) @ [([|0; 2; 0|], false); ([|1; 2; 0; 4|], false)] in\n",
    "    Utils.test_liste (=) pretty_print f tests\n",
    "    \n",
    "  let support f = \n",
    "    let pretty_print a = Printf.sprintf \"Permutation %s\" (Utils.print_int_array a) in\n",
    "    let tests = [([|0; 1; 2|],[]); ([|2; 1; 0|],[0; 2]); ([|3; 5; 0; 6; 1; 2; 4|],[0; 1; 2; 3; 4; 5; 6]); ([|6; 0; 5; 1; 4; 3; 2|], [0; 1; 2; 3; 5; 6])] in\n",
    "    Utils.test_liste (fun r rt -> List.sort compare r = rt) pretty_print f tests\n",
    "    \n",
    "  let compose f = \n",
    "    let pretty_print (a,b) = Printf.sprintf \"Permutations %s et %s\" (Utils.print_int_array a)  (Utils.print_int_array b) in\n",
    "    let tests = [(([|3; 5; 0; 6; 1; 2; 4|],[|6; 0; 5; 1; 4; 3; 2|]), [|4; 3; 2; 5; 1; 6; 0|]) ] in\n",
    "    Utils.test_liste (=) pretty_print (Utils.uncurry2 f) tests\n",
    "    \n",
    "  let indice_max_croit f = \n",
    "    let pretty_print a = Printf.sprintf \"Tableau %s\" (Utils.print_int_array a) in\n",
    "    let tests = [([|2; 3; 0; 1|], 2); ([|2; 3; 1; 0|], 0); ([|0; 1; 2; 3|], 2); ([|0; 1; 4; 3; 2|], 1)] in\n",
    "    Utils.test_liste (=) pretty_print f tests\n",
    "    \n",
    "  let suivant f = \n",
    "    let pretty_print a = Printf.sprintf \"Permutation %s\" (Utils.print_int_array a) in\n",
    "    let tests = [([|3; 2; 0; 1|], [|3; 2; 1; 0|]); ([|2; 3; 0; 1|], [|2; 3; 1; 0|]); ([|2; 3; 1; 0|], [|3; 0; 1; 2|]); ([|0; 1; 2; 3|], [|0; 1; 3; 2|]); ([|0; 1; 4; 3; 2|], [|0; 2; 1; 3; 4|])] in\n",
    "    Utils.test_liste (=) pretty_print (fun t -> f t ; t) tests\n",
    "    \n",
    "  let compose_cycle f =\n",
    "    let pretty_print (c, p) = Printf.sprintf \"Cycle %s, permutation %s\" (Utils.print_int_liste c)  (Utils.print_int_array p) in\n",
    "    let tests = [(([0; 5 ;1],[|0; 1; 4; 2; 3; 5|]), [|5; 0; 4; 2; 3; 1|])] in\n",
    "    Utils.test_liste (=) pretty_print (fun (c,p) -> f c p ; p) tests\n",
    "    \n",
    "  let produit_cycles f =\n",
    "    let pretty_print (l,_) = Printf.sprintf \"Cycles %s\" (List.map Utils.print_int_liste l |> String.concat \"; \"  |> Printf.sprintf \"[%s]\")  in\n",
    "    let tests = [(([[1; 3; 0];[4; 6; 8; 7];[2; 5]],11),[|1; 3; 5; 0; 6; 2; 8; 4; 7; 9; 10|])] in \n",
    "    Utils.test_liste (=) pretty_print (Utils.uncurry2 f) tests   \n",
    "    \n",
    "  let cycles f =\n",
    "    let rotate lst =\n",
    "      let rec aux deb fin reste =\n",
    "      match reste, deb with\n",
    "      | [], _ -> deb @ fin\n",
    "      | _, [] -> failwith \"Liste vide\"\n",
    "      | t::q, mini::_ -> if t < mini then aux [t] (fin@deb) q else aux (deb@[t]) fin q\n",
    "      in\n",
    "      match lst with\n",
    "      | [] -> failwith \"Liste vide\"\n",
    "      | t::q -> aux [t] [] q\n",
    "    in  \n",
    "    let pretty_print a = Printf.sprintf \"Permutation %s\" (Utils.print_int_array a) in\n",
    "    let tests = [([|2; 0; 1; 4; 3|], [ [0; 2; 1]; [3; 4]]); ([|1; 3; 5; 0; 6; 2; 8; 4; 7; 9; 10|], [[1; 3; 0];[4; 6; 8; 7];[2; 5]])] in \n",
    "    let test_comp r rt = let sort lst = List.sort compare (List.map rotate lst) in sort r = sort rt in\n",
    "    Utils.test_liste test_comp pretty_print f tests   \n",
    "end"
   ]
  },
  {
   "cell_type": "markdown",
   "metadata": {
    "deletable": false,
    "editable": false,
    "nbgrader": {
     "cell_type": "markdown",
     "checksum": "1eb5a0d0a3a693e2581fb85413db19fd",
     "grade": false,
     "grade_id": "cell-6ffbb49c076f2092",
     "locked": true,
     "schema_version": 3,
     "solution": false,
     "task": false
    }
   },
   "source": [
    "----\n",
    "\n",
    "Soit $n$ un entier naturel non nul. Une *permutation* $\\sigma$ de\n",
    "l’ensemble $[\\![ 0, n-1 ]\\!]$ des entiers compris entre $0$\n",
    "et $n-1$ est une bijection de cet ensemble dans lui-même.\n",
    "\n",
    "Représentation d’une permutation\n",
    "================================\n",
    "\n",
    "Nous représenterons une permutation $\\sigma$ de\n",
    "$[\\![ 0, n-1 ]\\!]$ par un tableau d’entiers $t$ de longueur\n",
    "$n$, tel que pour tout $i \\in [\\![ 0, n-1 ]\\!]$, l’entier\n",
    "$t.(i)$ soit égal à $\\sigma(i)$.\n",
    "\n",
    "<font size=\"5\">❓</font> À quelle condition un tableau $t$ de longueur $n$ représente-t-il une\n",
    "permutation de $[\\![ 0, n-1 ]\\!]$ ?"
   ]
  },
  {
   "cell_type": "markdown",
   "metadata": {
    "deletable": false,
    "nbgrader": {
     "cell_type": "markdown",
     "checksum": "929131a5cea9add19c137144cce02722",
     "grade": true,
     "grade_id": "cell-43f79a9a7c075962",
     "locked": false,
     "points": 0,
     "schema_version": 3,
     "solution": true,
     "task": false
    }
   },
   "source": [
    "✍️ *Votre réponse*"
   ]
  },
  {
   "cell_type": "markdown",
   "metadata": {
    "deletable": false,
    "editable": false,
    "nbgrader": {
     "cell_type": "markdown",
     "checksum": "a82569dd2f01a74d9c9f3d73f2d0ef96",
     "grade": false,
     "grade_id": "cell-802a960c9ab99732",
     "locked": true,
     "schema_version": 3,
     "solution": false,
     "task": false
    }
   },
   "source": [
    "<font size=\"5\">👩🏽‍💻</font> En déduire une fonction `est_permutation : int array -> bool` qui vérifie si un tableau\n",
    "d’entiers représente une permutation."
   ]
  },
  {
   "cell_type": "code",
   "execution_count": null,
   "metadata": {
    "deletable": false,
    "nbgrader": {
     "cell_type": "code",
     "checksum": "1f2975eef101c6b1c7409a807ef165b5",
     "grade": false,
     "grade_id": "cell-bb54e7c0b94b08b7",
     "locked": false,
     "schema_version": 3,
     "solution": true,
     "task": false
    }
   },
   "outputs": [],
   "source": [
    "(*À remplacer par votre code*)\n",
    "failwith \"Code manquant\""
   ]
  },
  {
   "cell_type": "markdown",
   "metadata": {
    "deletable": false,
    "editable": false,
    "nbgrader": {
     "cell_type": "markdown",
     "checksum": "3e08112b15714876453f86a306935e40",
     "grade": false,
     "grade_id": "cell-f79db0f5a4d45abf",
     "locked": true,
     "schema_version": 3,
     "solution": false,
     "task": false
    }
   },
   "source": [
    "**Tests personnels**"
   ]
  },
  {
   "cell_type": "code",
   "execution_count": null,
   "metadata": {},
   "outputs": [],
   "source": [
    "(* Utiliser la cellule pour exécuter quelques appels et vérifier les résultats obtenus *)"
   ]
  },
  {
   "cell_type": "markdown",
   "metadata": {
    "deletable": false,
    "editable": false,
    "nbgrader": {
     "cell_type": "markdown",
     "checksum": "194b3b53bea7b61aad9f96bf640b8021",
     "grade": false,
     "grade_id": "cell-6be38dc47a55f003",
     "locked": true,
     "schema_version": 3,
     "solution": false,
     "task": false
    }
   },
   "source": [
    "**Tests automatiques**"
   ]
  },
  {
   "cell_type": "code",
   "execution_count": null,
   "metadata": {
    "deletable": false,
    "editable": false,
    "nbgrader": {
     "cell_type": "code",
     "checksum": "5bb545ce63265a1a2d142f4ec157ba2a",
     "grade": true,
     "grade_id": "cell-659253252cef7bdf",
     "locked": true,
     "points": 0,
     "schema_version": 3,
     "solution": false,
     "task": false
    }
   },
   "outputs": [],
   "source": [
    "(* Exécutez cette cellule pour tester votre fonction *)\n",
    "let () = Test.est_permutation est_permutation;;"
   ]
  },
  {
   "cell_type": "markdown",
   "metadata": {
    "deletable": false,
    "editable": false,
    "nbgrader": {
     "cell_type": "markdown",
     "checksum": "37c3725cb36d23b64009084aaf9288cd",
     "grade": false,
     "grade_id": "cell-07d600132b3bb122",
     "locked": true,
     "schema_version": 3,
     "solution": false,
     "task": false
    }
   },
   "source": [
    "Le *support* d’une permutation $\\sigma$ est l’ensemble des points non\n",
    "fixes de $\\sigma$, c’est-à-dire l’ensemble des entiers $i$ tels que\n",
    "$\\sigma(i) \\neq i$.\n",
    "\n",
    "<font size=\"5\">👨‍💻</font> Écrire une fonction `support : int array -> int list` qui prend en argument un tableau\n",
    "représentant une permutation et qui renvoie son support."
   ]
  },
  {
   "cell_type": "code",
   "execution_count": null,
   "metadata": {
    "deletable": false,
    "nbgrader": {
     "cell_type": "code",
     "checksum": "0bf2f243a98189662c9e4f86a6144e27",
     "grade": false,
     "grade_id": "cell-b2c5fb61384789aa",
     "locked": false,
     "schema_version": 3,
     "solution": true,
     "task": false
    }
   },
   "outputs": [],
   "source": [
    "(*À remplacer par votre code*)\n",
    "failwith \"Code manquant\""
   ]
  },
  {
   "cell_type": "markdown",
   "metadata": {
    "deletable": false,
    "editable": false,
    "nbgrader": {
     "cell_type": "markdown",
     "checksum": "e83e9ec2bbc0e337b1d01c2e430ac517",
     "grade": false,
     "grade_id": "cell-165aea063bd5c43c",
     "locked": true,
     "schema_version": 3,
     "solution": false,
     "task": false
    }
   },
   "source": [
    "**Tests personnels**"
   ]
  },
  {
   "cell_type": "code",
   "execution_count": 9,
   "metadata": {},
   "outputs": [],
   "source": [
    "(* Utiliser la cellule pour exécuter quelques appels et vérifier les résultats obtenus *)"
   ]
  },
  {
   "cell_type": "markdown",
   "metadata": {
    "deletable": false,
    "editable": false,
    "nbgrader": {
     "cell_type": "markdown",
     "checksum": "75fb302100d45cd84324d4af43699614",
     "grade": false,
     "grade_id": "cell-ad0d8858cc192c52",
     "locked": true,
     "schema_version": 3,
     "solution": false,
     "task": false
    }
   },
   "source": [
    "**Tests automatiques**"
   ]
  },
  {
   "cell_type": "code",
   "execution_count": null,
   "metadata": {
    "deletable": false,
    "editable": false,
    "nbgrader": {
     "cell_type": "code",
     "checksum": "778bd34ad7a9ba1adb46288b6bb97e3c",
     "grade": true,
     "grade_id": "cell-104c004e74965538",
     "locked": true,
     "points": 0,
     "schema_version": 3,
     "solution": false,
     "task": false
    }
   },
   "outputs": [],
   "source": [
    "(* Exécutez cette cellule pour tester votre fonction *)\n",
    "let () = Test.support support;;"
   ]
  },
  {
   "cell_type": "markdown",
   "metadata": {
    "deletable": false,
    "editable": false,
    "nbgrader": {
     "cell_type": "markdown",
     "checksum": "ee4e6a957b969e47fe16fe1ad513bb48",
     "grade": false,
     "grade_id": "cell-0f0944562a854201",
     "locked": true,
     "schema_version": 3,
     "solution": false,
     "task": false
    }
   },
   "source": [
    "La composée de deux permutations $\\sigma$ et $\\sigma'$ de\n",
    "$[\\![ 0, n-1 ]\\!]$ est leur composée $\\sigma \\circ \\sigma'$\n",
    "au sens habituel des applications. Il s’agit d’une permutation de\n",
    "$[\\![ 0, n-1 ]\\!]$.\n",
    "\n",
    "<font size=\"5\">👩🏿‍💻</font> Écrire une fonction `compose : int array -> int array -> int array` qui prend en argument deux tableaux\n",
    "représentant des permutations et qui renvoie le tableau représentant\n",
    "leur composée ; `compose t1 t2` renverra le tableau correspondant à la permutation $\\sigma_1 \\circ \\sigma_2$ où $\\sigma_1$ est représentée par `t1`et $\\sigma_2$ par `t2`."
   ]
  },
  {
   "cell_type": "code",
   "execution_count": null,
   "metadata": {
    "deletable": false,
    "nbgrader": {
     "cell_type": "code",
     "checksum": "e2285e169e49c3c4f33e2191bf3fb564",
     "grade": false,
     "grade_id": "cell-fe2067fb439393cc",
     "locked": false,
     "schema_version": 3,
     "solution": true,
     "task": false
    }
   },
   "outputs": [],
   "source": [
    "(*À remplacer par votre code*)\n",
    "failwith \"Code manquant\""
   ]
  },
  {
   "cell_type": "markdown",
   "metadata": {
    "deletable": false,
    "editable": false,
    "nbgrader": {
     "cell_type": "markdown",
     "checksum": "0c5f185f24937064a20ca15dedda1fc8",
     "grade": false,
     "grade_id": "cell-833f7f7df7c6d79c",
     "locked": true,
     "schema_version": 3,
     "solution": false,
     "task": false
    }
   },
   "source": [
    "**Tests personnels**"
   ]
  },
  {
   "cell_type": "code",
   "execution_count": null,
   "metadata": {},
   "outputs": [],
   "source": [
    "(* Utiliser la cellule pour exécuter quelques appels et vérifier les résultats obtenus *)"
   ]
  },
  {
   "cell_type": "markdown",
   "metadata": {
    "deletable": false,
    "editable": false,
    "nbgrader": {
     "cell_type": "markdown",
     "checksum": "038b46b99da12d851afd8dcba62fcffb",
     "grade": false,
     "grade_id": "cell-ce87da5acf7f0f0b",
     "locked": true,
     "schema_version": 3,
     "solution": false,
     "task": false
    }
   },
   "source": [
    "**Tests automatiques**"
   ]
  },
  {
   "cell_type": "code",
   "execution_count": null,
   "metadata": {
    "deletable": false,
    "editable": false,
    "nbgrader": {
     "cell_type": "code",
     "checksum": "1f69682cd8ccab6b19dd29b363be9f5d",
     "grade": true,
     "grade_id": "cell-c40b852c15075f94",
     "locked": true,
     "points": 0,
     "schema_version": 3,
     "solution": false,
     "task": false
    }
   },
   "outputs": [],
   "source": [
    "(* Exécutez cette cellule pour tester votre fonction *)\n",
    "let () = Test.compose compose;;"
   ]
  },
  {
   "cell_type": "markdown",
   "metadata": {
    "deletable": false,
    "editable": false,
    "nbgrader": {
     "cell_type": "markdown",
     "checksum": "482e2efb6dad899ecc88b5f4f409f77f",
     "grade": false,
     "grade_id": "cell-a42290bc09e59557",
     "locked": true,
     "schema_version": 3,
     "solution": false,
     "task": false
    }
   },
   "source": [
    "Énumération des permutations\n",
    "============================"
   ]
  },
  {
   "cell_type": "markdown",
   "metadata": {
    "deletable": false,
    "editable": false,
    "nbgrader": {
     "cell_type": "markdown",
     "checksum": "e121f5e8f0955bec231ba8dd324a8cb4",
     "grade": false,
     "grade_id": "cell-2f0299339e23e1d4",
     "locked": true,
     "schema_version": 3,
     "solution": false,
     "task": false
    }
   },
   "source": [
    "Ordre sur les permutations\n",
    "--------------------------"
   ]
  },
  {
   "cell_type": "markdown",
   "metadata": {
    "deletable": false,
    "editable": false,
    "nbgrader": {
     "cell_type": "markdown",
     "checksum": "9ebfa14c0fe34e001ade500b004ebce0",
     "grade": false,
     "grade_id": "cell-0a7e7fa2e7247c60",
     "locked": true,
     "schema_version": 3,
     "solution": false,
     "task": false
    }
   },
   "source": [
    "On ordonne les permutations de $[\\![ 0, n-1 ]\\!]$ selon\n",
    "l’ordre lexicographique. Nous allons écrire une fonction qui étant\n",
    "donnée une permutation représentée par un tableau $t$ calcule son\n",
    "successeur immédiat. Pour cela, on applique l’algorithme suivant :"
   ]
  },
  {
   "cell_type": "markdown",
   "metadata": {
    "deletable": false,
    "editable": false,
    "nbgrader": {
     "cell_type": "markdown",
     "checksum": "b138f6b67c2fdb375da4842021923569",
     "grade": false,
     "grade_id": "cell-5c05d76237a21c3d",
     "locked": true,
     "schema_version": 3,
     "solution": false,
     "task": false
    }
   },
   "source": [
    "1.  On détermine le plus grand entier $i$ tel que $t.(i) < t.(i+1)$ ;\n",
    "\n",
    "2.  On permute $t.(i)$ avec le plus petit élément qui lui soit plus\n",
    "    grand parmi $t.(i+1)$,..., $t.(n-1)$ ;\n",
    "\n",
    "3.  On trie la portion du tableau située à partir de l’indice $i+1$\n",
    "    compris."
   ]
  },
  {
   "cell_type": "markdown",
   "metadata": {
    "deletable": false,
    "editable": false,
    "nbgrader": {
     "cell_type": "markdown",
     "checksum": "4474ddcf2013a9ea4f19d181518d8b5e",
     "grade": false,
     "grade_id": "cell-0fdb431d9f057cd7",
     "locked": true,
     "schema_version": 3,
     "solution": false,
     "task": false
    }
   },
   "source": [
    "<font size=\"5\">👨🏻‍💻</font> \n",
    "Écrire une fonction `indice_max_croit : 'a array -> int` qui prend en argument un tableau\n",
    "$t$ et renvoie le plus grand indice $i$ tel que $t.(i) < t.(i+1)$."
   ]
  },
  {
   "cell_type": "code",
   "execution_count": null,
   "metadata": {
    "deletable": false,
    "nbgrader": {
     "cell_type": "code",
     "checksum": "5697de2123e0ea52ab456afc5d7f1c02",
     "grade": false,
     "grade_id": "cell-5a0d1b0e679bbbf0",
     "locked": false,
     "schema_version": 3,
     "solution": true,
     "task": false
    }
   },
   "outputs": [],
   "source": [
    "(*À remplacer par votre code*)\n",
    "failwith \"Code manquant\""
   ]
  },
  {
   "cell_type": "markdown",
   "metadata": {
    "deletable": false,
    "editable": false,
    "nbgrader": {
     "cell_type": "markdown",
     "checksum": "22a68ec049a24994beaf646ea0fb67fe",
     "grade": false,
     "grade_id": "cell-857c8dcb1cfaecfa",
     "locked": true,
     "schema_version": 3,
     "solution": false,
     "task": false
    }
   },
   "source": [
    "**Tests personnels**"
   ]
  },
  {
   "cell_type": "code",
   "execution_count": null,
   "metadata": {},
   "outputs": [],
   "source": [
    "(* Utiliser la cellule pour exécuter quelques appels et vérifier les résultats obtenus *)"
   ]
  },
  {
   "cell_type": "markdown",
   "metadata": {
    "deletable": false,
    "editable": false,
    "nbgrader": {
     "cell_type": "markdown",
     "checksum": "efad67e36c3907c167a2642a5aed59b3",
     "grade": false,
     "grade_id": "cell-bf441ecb4a0f421f",
     "locked": true,
     "schema_version": 3,
     "solution": false,
     "task": false
    }
   },
   "source": [
    "**Tests automatiques**"
   ]
  },
  {
   "cell_type": "code",
   "execution_count": null,
   "metadata": {
    "deletable": false,
    "editable": false,
    "nbgrader": {
     "cell_type": "code",
     "checksum": "3e123bba0c6caafb61e216be99900ddc",
     "grade": true,
     "grade_id": "cell-d1401bb63f24dde2",
     "locked": true,
     "points": 0,
     "schema_version": 3,
     "solution": false,
     "task": false
    }
   },
   "outputs": [],
   "source": [
    "(* Exécutez cette cellule pour tester votre fonction *)\n",
    "let () = Test.indice_max_croit indice_max_croit;;"
   ]
  },
  {
   "cell_type": "markdown",
   "metadata": {
    "deletable": false,
    "editable": false,
    "nbgrader": {
     "cell_type": "markdown",
     "checksum": "d624ee07851d81fd14871c014a67e4b0",
     "grade": false,
     "grade_id": "cell-776ec2709fb6898f",
     "locked": true,
     "schema_version": 3,
     "solution": false,
     "task": false
    }
   },
   "source": [
    "<font size=\"5\">👩🏾‍💻</font> \n",
    "Écrire une fonction `permute_max : 'a array -> int -> unit` qui prend en argument un tableau $t$\n",
    "et un entier $i$ et qui permute dans le tableau $t$ l’élément d’indice\n",
    "$i$ avec le plus petit élément qui lui soit plus grand parmi\n",
    "$t.(i+1)$,..., $t.(n-1)$ (ou $n$ est la longueur de $t$)."
   ]
  },
  {
   "cell_type": "code",
   "execution_count": null,
   "metadata": {
    "deletable": false,
    "nbgrader": {
     "cell_type": "code",
     "checksum": "70e664351cc25cf5fa9c4feafc105d9c",
     "grade": false,
     "grade_id": "cell-1ac50f1d8f7721bd",
     "locked": false,
     "schema_version": 3,
     "solution": true,
     "task": false
    }
   },
   "outputs": [],
   "source": [
    "(*À remplacer par votre code*)\n",
    "failwith \"Code manquant\""
   ]
  },
  {
   "cell_type": "markdown",
   "metadata": {
    "deletable": false,
    "editable": false,
    "nbgrader": {
     "cell_type": "markdown",
     "checksum": "f365d610c55125b5c2b5c2490aad2057",
     "grade": false,
     "grade_id": "cell-1125d10558dd70db",
     "locked": true,
     "schema_version": 3,
     "solution": false,
     "task": false
    }
   },
   "source": [
    "**Tests personnels**"
   ]
  },
  {
   "cell_type": "code",
   "execution_count": null,
   "metadata": {},
   "outputs": [],
   "source": [
    "(* Utiliser la cellule pour exécuter quelques appels et vérifier les résultats obtenus *)"
   ]
  },
  {
   "cell_type": "markdown",
   "metadata": {
    "deletable": false,
    "editable": false,
    "nbgrader": {
     "cell_type": "markdown",
     "checksum": "161513fe98b583a98de1c8bc32d6cac2",
     "grade": false,
     "grade_id": "cell-ae6737710e2df59a",
     "locked": true,
     "schema_version": 3,
     "solution": false,
     "task": false
    }
   },
   "source": [
    "<font size=\"5\">👨🏼‍💻</font> \n",
    "Écrire une fonction `trie_droite : 'a array -> int -> unit` qui prend en argument un tableau $t$\n",
    "et un entier $k$ et qui trie en place la portion du tableau située à\n",
    "partir de l’indice $k$."
   ]
  },
  {
   "cell_type": "code",
   "execution_count": null,
   "metadata": {
    "deletable": false,
    "nbgrader": {
     "cell_type": "code",
     "checksum": "4c19485fcec29eb8d8a2a3c1fd766934",
     "grade": false,
     "grade_id": "cell-e1527d284c6b91be",
     "locked": false,
     "schema_version": 3,
     "solution": true,
     "task": false
    }
   },
   "outputs": [],
   "source": [
    "(*À remplacer par votre code*)\n",
    "failwith \"Code manquant\""
   ]
  },
  {
   "cell_type": "markdown",
   "metadata": {
    "deletable": false,
    "editable": false,
    "nbgrader": {
     "cell_type": "markdown",
     "checksum": "b6abb7cbd4672ab50328cbe4445ddbc2",
     "grade": false,
     "grade_id": "cell-92b14602119af488",
     "locked": true,
     "schema_version": 3,
     "solution": false,
     "task": false
    }
   },
   "source": [
    "**Tests personnels**"
   ]
  },
  {
   "cell_type": "code",
   "execution_count": null,
   "metadata": {},
   "outputs": [],
   "source": [
    "(* Utiliser la cellule pour exécuter quelques appels et vérifier les résultats obtenus *)"
   ]
  },
  {
   "cell_type": "markdown",
   "metadata": {
    "deletable": false,
    "editable": false,
    "nbgrader": {
     "cell_type": "markdown",
     "checksum": "cbd6ba83d54d79d5a2c3baf0c025a0d1",
     "grade": false,
     "grade_id": "cell-d4193f44d7051943",
     "locked": true,
     "schema_version": 3,
     "solution": false,
     "task": false
    }
   },
   "source": [
    "<font size=\"5\">👩‍💻</font> \n",
    "En déduire une fonction `suivant : 'a array -> unit` qui prend en argument un tableau $t$\n",
    "représentant une permutation et modifie le tableau $t$ en place de\n",
    "manière à obtenir la permutation suivante."
   ]
  },
  {
   "cell_type": "code",
   "execution_count": null,
   "metadata": {
    "deletable": false,
    "nbgrader": {
     "cell_type": "code",
     "checksum": "91582e59c7225b3e8b87de632eb98b16",
     "grade": false,
     "grade_id": "cell-8230c7c01ab97d55",
     "locked": false,
     "schema_version": 3,
     "solution": true,
     "task": false
    }
   },
   "outputs": [],
   "source": [
    "(*À remplacer par votre code*)\n",
    "failwith \"Code manquant\""
   ]
  },
  {
   "cell_type": "markdown",
   "metadata": {
    "deletable": false,
    "editable": false,
    "nbgrader": {
     "cell_type": "markdown",
     "checksum": "05a64d31465cb9d56b938d6cadd31d7a",
     "grade": false,
     "grade_id": "cell-85873f0b28693a20",
     "locked": true,
     "schema_version": 3,
     "solution": false,
     "task": false
    }
   },
   "source": [
    "**Tests personnels**"
   ]
  },
  {
   "cell_type": "code",
   "execution_count": null,
   "metadata": {},
   "outputs": [],
   "source": [
    "(* Utiliser la cellule pour exécuter quelques appels et vérifier les résultats obtenus *)"
   ]
  },
  {
   "cell_type": "markdown",
   "metadata": {
    "deletable": false,
    "editable": false,
    "nbgrader": {
     "cell_type": "markdown",
     "checksum": "bcb64fd32ee72b7d04eaf4479c18de7a",
     "grade": false,
     "grade_id": "cell-441e8ef732a7c3e2",
     "locked": true,
     "schema_version": 3,
     "solution": false,
     "task": false
    }
   },
   "source": [
    "**Tests automatiques**"
   ]
  },
  {
   "cell_type": "code",
   "execution_count": null,
   "metadata": {
    "deletable": false,
    "editable": false,
    "nbgrader": {
     "cell_type": "code",
     "checksum": "9f57869846fc6619c3f2804824ca711c",
     "grade": true,
     "grade_id": "cell-a1754ca7f41fed81",
     "locked": true,
     "points": 0,
     "schema_version": 3,
     "solution": false,
     "task": false
    }
   },
   "outputs": [],
   "source": [
    "(* Exécutez cette cellule pour tester votre fonction *)\n",
    "let () = Test.suivant suivant;;"
   ]
  },
  {
   "cell_type": "markdown",
   "metadata": {},
   "source": [
    "Affichage des permutations\n",
    "--------------------------"
   ]
  },
  {
   "cell_type": "markdown",
   "metadata": {},
   "source": [
    "<font size=\"5\">👨🏿‍💻</font> \n",
    "Écrire une fonction `print_perm : int array -> unit` prenant en argument une permutation et\n",
    "l’affiche sous la forme de votre choix."
   ]
  },
  {
   "cell_type": "code",
   "execution_count": null,
   "metadata": {
    "deletable": false,
    "nbgrader": {
     "cell_type": "code",
     "checksum": "3a4b22ec16feefd822b8d49a5db9036b",
     "grade": false,
     "grade_id": "cell-f36cb039d9064cc3",
     "locked": false,
     "schema_version": 3,
     "solution": true,
     "task": false
    }
   },
   "outputs": [],
   "source": [
    "(*À remplacer par votre code*)\n",
    "failwith \"Code manquant\""
   ]
  },
  {
   "cell_type": "markdown",
   "metadata": {
    "deletable": false,
    "editable": false,
    "nbgrader": {
     "cell_type": "markdown",
     "checksum": "1f962b6393306a0d9e892719c35bfea3",
     "grade": false,
     "grade_id": "cell-4c62d6d16ab252b9",
     "locked": true,
     "schema_version": 3,
     "solution": false,
     "task": false
    }
   },
   "source": [
    "**Tests personnels**"
   ]
  },
  {
   "cell_type": "code",
   "execution_count": null,
   "metadata": {},
   "outputs": [],
   "source": [
    "(* Utiliser la cellule pour exécuter quelques appels et vérifier les résultats obtenus *)"
   ]
  },
  {
   "cell_type": "markdown",
   "metadata": {
    "deletable": false,
    "editable": false,
    "nbgrader": {
     "cell_type": "markdown",
     "checksum": "eb94f580bfcd7a0fecf7ea889e0a74e4",
     "grade": false,
     "grade_id": "cell-a621de94383521df",
     "locked": true,
     "schema_version": 3,
     "solution": false,
     "task": false
    }
   },
   "source": [
    "<font size=\"5\">👩🏼‍💻</font> \n",
    "En déduire une fonction `enumere : int -> unit` qui prend en argument un entier $n$ et\n",
    "qui affiche toutes les permutations de $[\\![ 0, n-1 ]\\!]$."
   ]
  },
  {
   "cell_type": "code",
   "execution_count": null,
   "metadata": {
    "deletable": false,
    "nbgrader": {
     "cell_type": "code",
     "checksum": "e1f44c62a1d7f53052ce3d506111e716",
     "grade": false,
     "grade_id": "cell-0e3e233f3b926469",
     "locked": false,
     "schema_version": 3,
     "solution": true,
     "task": false
    }
   },
   "outputs": [],
   "source": [
    "(*À remplacer par votre code*)\n",
    "failwith \"Code manquant\""
   ]
  },
  {
   "cell_type": "markdown",
   "metadata": {
    "deletable": false,
    "editable": false,
    "nbgrader": {
     "cell_type": "markdown",
     "checksum": "f78208003db0c432b58cb4401712d1e0",
     "grade": false,
     "grade_id": "cell-575bd3209fc4368d",
     "locked": true,
     "schema_version": 3,
     "solution": false,
     "task": false
    }
   },
   "source": [
    "**Tests personnels**"
   ]
  },
  {
   "cell_type": "code",
   "execution_count": null,
   "metadata": {},
   "outputs": [],
   "source": [
    "(* Utiliser la cellule pour exécuter quelques appels et vérifier les résultats obtenus *)"
   ]
  },
  {
   "cell_type": "markdown",
   "metadata": {
    "deletable": false,
    "editable": false,
    "nbgrader": {
     "cell_type": "markdown",
     "checksum": "e1441acb836478b11b2c5e167f8a936b",
     "grade": false,
     "grade_id": "cell-84dca5e921849ef6",
     "locked": true,
     "schema_version": 3,
     "solution": false,
     "task": false
    }
   },
   "source": [
    "<font size=\"5\">❓</font> Combien y en a-t-il ?"
   ]
  },
  {
   "cell_type": "markdown",
   "metadata": {
    "deletable": false,
    "nbgrader": {
     "cell_type": "markdown",
     "checksum": "7c329853b5d6a38a5b32beb90be3d603",
     "grade": true,
     "grade_id": "cell-15342dfaa1715ebe",
     "locked": false,
     "points": 0,
     "schema_version": 3,
     "solution": true,
     "task": false
    }
   },
   "source": [
    "✍️ *Votre réponse*"
   ]
  },
  {
   "cell_type": "markdown",
   "metadata": {
    "deletable": false,
    "editable": false,
    "nbgrader": {
     "cell_type": "markdown",
     "checksum": "33d5fd859481d8c8157c4536a538bf8c",
     "grade": false,
     "grade_id": "cell-c44265d6f8194dfb",
     "locked": true,
     "schema_version": 3,
     "solution": false,
     "task": false
    }
   },
   "source": [
    "Pour les plus rapides - Cycles\n",
    "=============================="
   ]
  },
  {
   "cell_type": "markdown",
   "metadata": {
    "deletable": false,
    "editable": false,
    "nbgrader": {
     "cell_type": "markdown",
     "checksum": "620b1a684996f63a7238ce0c05464975",
     "grade": false,
     "grade_id": "cell-94dea3953bcbdc3f",
     "locked": true,
     "schema_version": 3,
     "solution": false,
     "task": false
    }
   },
   "source": [
    "On appelle *cycle* une permutation $\\sigma$ tel qu’il existe $k$\n",
    "éléments distincts $x_0, \\dots,x_{k-1}$ tels que le support de $\\sigma$\n",
    "est $\\lbrace x_0, \\dots, x_{k-1} \\rbrace$, et tels que\n",
    "$\\sigma(x_0) = x_1$, $\\sigma(x_1) = x_2$, $\\dots$,\n",
    "$\\sigma(x_{k-2}) = x_{k-1}$ et $\\sigma(x_{k-1}) = x_0$.\n",
    "\n",
    "Un tel cycle peut être représenté par la liste $[x_0; \\dots; x_{k-1}]$.\n",
    "\n",
    "On peut démontrer que toute permutation se décompose de manière unique\n",
    "comme un produit (commutatif) de cycles de supports disjoints. On\n",
    "représentera un produit de cycles sous la forme d’une liste de listes\n",
    "d’entiers.\n",
    "\n",
    "<font size=\"5\">❓</font> \n",
    "Décomposer (à la main) la permutation `[|4; 6; 7; 1; 2; 5; 3; 0|]` en un\n",
    "produit de cycles disjoints."
   ]
  },
  {
   "cell_type": "markdown",
   "metadata": {
    "deletable": false,
    "nbgrader": {
     "cell_type": "markdown",
     "checksum": "b967c74b3df29e0761e8cc5607431bd4",
     "grade": true,
     "grade_id": "cell-b9ab21f5c497a3d1",
     "locked": false,
     "points": 0,
     "schema_version": 3,
     "solution": true,
     "task": false
    }
   },
   "source": [
    "✍️ *Votre réponse*"
   ]
  },
  {
   "cell_type": "markdown",
   "metadata": {
    "deletable": false,
    "editable": false,
    "nbgrader": {
     "cell_type": "markdown",
     "checksum": "c15696c91495bf3eaebfeaf72c9e3357",
     "grade": false,
     "grade_id": "cell-d0f8d3ae284599ab",
     "locked": true,
     "schema_version": 3,
     "solution": false,
     "task": false
    }
   },
   "source": [
    "<font size=\"5\">👨🏽‍💻</font> \n",
    "Écrire une fonction `compose_cycle : int list -> 'a array -> unit` prenant en argument un cycle $c$ et\n",
    "un tableau $t$ représentant une permutation pour laquelle on suppose que\n",
    "les éléments du cycle sont des points fixes, et qui modifie en place le\n",
    "tableau $t$ de sorte que le tableau obtenu représente la composée du\n",
    "cycle et de la permutation initiale."
   ]
  },
  {
   "cell_type": "code",
   "execution_count": null,
   "metadata": {
    "deletable": false,
    "nbgrader": {
     "cell_type": "code",
     "checksum": "0039f0c1faacf3d4025811ba8b05c9a2",
     "grade": false,
     "grade_id": "cell-d7619cdd97882633",
     "locked": false,
     "schema_version": 3,
     "solution": true,
     "task": false
    }
   },
   "outputs": [],
   "source": [
    "(*À remplacer par votre code*)\n",
    "failwith \"Code manquant\""
   ]
  },
  {
   "cell_type": "markdown",
   "metadata": {
    "deletable": false,
    "editable": false,
    "nbgrader": {
     "cell_type": "markdown",
     "checksum": "4e1ae7160f3696381aea25b9839b3107",
     "grade": false,
     "grade_id": "cell-aaa4a9bb009ae7c2",
     "locked": true,
     "schema_version": 3,
     "solution": false,
     "task": false
    }
   },
   "source": [
    "**Tests personnels**"
   ]
  },
  {
   "cell_type": "code",
   "execution_count": null,
   "metadata": {},
   "outputs": [],
   "source": [
    "(* Utiliser la cellule pour exécuter quelques appels et vérifier les résultats obtenus *)"
   ]
  },
  {
   "cell_type": "markdown",
   "metadata": {
    "deletable": false,
    "editable": false,
    "nbgrader": {
     "cell_type": "markdown",
     "checksum": "26cfa8431ef6de69085b479a1fafcb86",
     "grade": false,
     "grade_id": "cell-7f34ab0fd69f8032",
     "locked": true,
     "schema_version": 3,
     "solution": false,
     "task": false
    }
   },
   "source": [
    "**Tests automatiques**"
   ]
  },
  {
   "cell_type": "code",
   "execution_count": null,
   "metadata": {
    "deletable": false,
    "editable": false,
    "nbgrader": {
     "cell_type": "code",
     "checksum": "ab0b576d646eb79d171e8f2fc8b74385",
     "grade": true,
     "grade_id": "cell-dbe7644327d21e69",
     "locked": true,
     "points": 0,
     "schema_version": 3,
     "solution": false,
     "task": false
    }
   },
   "outputs": [],
   "source": [
    "(* Exécutez cette cellule pour tester votre fonction *)\n",
    "let () = Test.compose_cycle compose_cycle;;"
   ]
  },
  {
   "cell_type": "markdown",
   "metadata": {
    "deletable": false,
    "editable": false,
    "nbgrader": {
     "cell_type": "markdown",
     "checksum": "71426ba0209fce3be560c266e92b090c",
     "grade": false,
     "grade_id": "cell-78a475443bff6a7b",
     "locked": true,
     "schema_version": 3,
     "solution": false,
     "task": false
    }
   },
   "source": [
    "<font size=\"5\">👩🏻‍💻</font> \n",
    "En déduire une fonction `produit_cycles : int list list -> int -> int array` qui prend pour argument un\n",
    "produit de cycles disjoints et l’entier $n$ et qui renvoie la permutation de\n",
    "$[\\![ 0, n-1 ]\\!]$ représentée par le produit de cycles."
   ]
  },
  {
   "cell_type": "code",
   "execution_count": null,
   "metadata": {
    "deletable": false,
    "nbgrader": {
     "cell_type": "code",
     "checksum": "15a2c6f1839fd6b11b5ec1e476ab42da",
     "grade": false,
     "grade_id": "cell-c3189360b0ad25f9",
     "locked": false,
     "schema_version": 3,
     "solution": true,
     "task": false
    }
   },
   "outputs": [],
   "source": [
    "(*À remplacer par votre code*)\n",
    "failwith \"Code manquant\""
   ]
  },
  {
   "cell_type": "markdown",
   "metadata": {
    "deletable": false,
    "editable": false,
    "nbgrader": {
     "cell_type": "markdown",
     "checksum": "5a2440cf68adc554b25955165adaff80",
     "grade": false,
     "grade_id": "cell-decaabec0ee7fdf5",
     "locked": true,
     "schema_version": 3,
     "solution": false,
     "task": false
    }
   },
   "source": [
    "**Tests personnels**"
   ]
  },
  {
   "cell_type": "code",
   "execution_count": null,
   "metadata": {},
   "outputs": [],
   "source": [
    "(* Utiliser la cellule pour exécuter quelques appels et vérifier les résultats obtenus *)"
   ]
  },
  {
   "cell_type": "markdown",
   "metadata": {
    "deletable": false,
    "editable": false,
    "nbgrader": {
     "cell_type": "markdown",
     "checksum": "e9e824d6d889ce4bf53271281dc2a182",
     "grade": false,
     "grade_id": "cell-f882978560231ad3",
     "locked": true,
     "schema_version": 3,
     "solution": false,
     "task": false
    }
   },
   "source": [
    "**Tests automatiques**"
   ]
  },
  {
   "cell_type": "code",
   "execution_count": null,
   "metadata": {
    "deletable": false,
    "editable": false,
    "nbgrader": {
     "cell_type": "code",
     "checksum": "ad2ad5106d5c892f546ea87b31ca4b11",
     "grade": true,
     "grade_id": "cell-f715cecca5cfd92f",
     "locked": true,
     "points": 0,
     "schema_version": 3,
     "solution": false,
     "task": false
    }
   },
   "outputs": [],
   "source": [
    "(* Exécutez cette cellule pour tester votre fonction *)\n",
    "let () = Test.produit_cycles produit_cycles;;"
   ]
  },
  {
   "cell_type": "markdown",
   "metadata": {
    "deletable": false,
    "editable": false,
    "nbgrader": {
     "cell_type": "markdown",
     "checksum": "babc079b8bceec29bce5c5d9729ed501",
     "grade": false,
     "grade_id": "cell-fd3c3e38e9d1e3eb",
     "locked": true,
     "schema_version": 3,
     "solution": false,
     "task": false
    }
   },
   "source": [
    "<font size=\"5\">👨🏾‍💻</font> \n",
    "On souhaite maintenant procéder à l’opération inverse. Écrire une\n",
    "fonction `cycles` qui prend en argument une permutation et qui décompose\n",
    "cette permutation en un produit de cycles de supports disjoints."
   ]
  },
  {
   "cell_type": "code",
   "execution_count": null,
   "metadata": {
    "deletable": false,
    "nbgrader": {
     "cell_type": "code",
     "checksum": "45d33598767183555f65acec2bcfaa90",
     "grade": false,
     "grade_id": "cell-78a24b96299cf82d",
     "locked": false,
     "schema_version": 3,
     "solution": true,
     "task": false
    }
   },
   "outputs": [],
   "source": [
    "(*À remplacer par votre code*)\n",
    "failwith \"Code manquant\""
   ]
  },
  {
   "cell_type": "markdown",
   "metadata": {
    "deletable": false,
    "editable": false,
    "nbgrader": {
     "cell_type": "markdown",
     "checksum": "c8c46e1e93e416738c19622d879175e5",
     "grade": false,
     "grade_id": "cell-78ed05bc3076d1fb",
     "locked": true,
     "schema_version": 3,
     "solution": false,
     "task": false
    }
   },
   "source": [
    "**Tests personnels**"
   ]
  },
  {
   "cell_type": "code",
   "execution_count": null,
   "metadata": {},
   "outputs": [],
   "source": [
    "(* Utiliser la cellule pour exécuter quelques appels et vérifier les résultats obtenus *)"
   ]
  },
  {
   "cell_type": "markdown",
   "metadata": {
    "deletable": false,
    "editable": false,
    "nbgrader": {
     "cell_type": "markdown",
     "checksum": "26020a91ff590d66de6ce190e51ab93c",
     "grade": false,
     "grade_id": "cell-a503b5d26d462ee2",
     "locked": true,
     "schema_version": 3,
     "solution": false,
     "task": false
    }
   },
   "source": [
    "**Tests automatiques**"
   ]
  },
  {
   "cell_type": "code",
   "execution_count": null,
   "metadata": {
    "deletable": false,
    "editable": false,
    "nbgrader": {
     "cell_type": "code",
     "checksum": "0b89b3435810dd69fe4956725aea5b77",
     "grade": true,
     "grade_id": "cell-8f2a5d627701c426",
     "locked": true,
     "points": 0,
     "schema_version": 3,
     "solution": false,
     "task": false
    }
   },
   "outputs": [],
   "source": [
    "(* Exécutez cette cellule pour tester votre fonction *)\n",
    "let () = Test.cycles cycles;;"
   ]
  }
 ],
 "metadata": {
  "kernelspec": {
   "display_name": "OCaml default",
   "language": "OCaml",
   "name": "ocaml-jupyter-default"
  },
  "language_info": {
   "codemirror_mode": "text/x-ocaml",
   "file_extension": ".ml",
   "mimetype": "text/x-ocaml",
   "name": "OCaml",
   "nbconverter_exporter": null,
   "pygments_lexer": "OCaml",
   "version": "4.14.2"
  }
 },
 "nbformat": 4,
 "nbformat_minor": 4
}
