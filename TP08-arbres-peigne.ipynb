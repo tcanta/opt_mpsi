{
 "cells": [
  {
   "cell_type": "markdown",
   "metadata": {
    "deletable": false,
    "editable": false,
    "nbgrader": {
     "cell_type": "markdown",
     "checksum": "44d6dccc649777a3a99a0a6e0f8ad550",
     "grade": false,
     "grade_id": "cell-b48b5dda6ba62efe",
     "locked": true,
     "schema_version": 3,
     "solution": false,
     "task": false
    }
   },
   "source": [
    "# Peignes\n",
    "\n",
    "On considère des arbres binaires stricts non vides dont les nœuds internes ne sont pas étiquetés et les feuilles sont étiquetées par des entiers. On utilisera donc le type suivant :"
   ]
  },
  {
   "cell_type": "code",
   "execution_count": null,
   "metadata": {
    "deletable": false,
    "editable": false,
    "nbgrader": {
     "cell_type": "code",
     "checksum": "3cbc449a171a34de034ceed7ee77335d",
     "grade": false,
     "grade_id": "cell-665339145bad48d4",
     "locked": true,
     "schema_version": 3,
     "solution": false,
     "task": false
    }
   },
   "outputs": [],
   "source": [
    "type arbre =\n",
    "   |Feuille of int\n",
    "   |Noeud of arbre * arbre ;;"
   ]
  },
  {
   "cell_type": "markdown",
   "metadata": {
    "deletable": false,
    "editable": false,
    "nbgrader": {
     "cell_type": "markdown",
     "checksum": "a16af30a5f69859ea1aaa5059e4dc1a5",
     "grade": false,
     "grade_id": "cell-fdede32111ae2565",
     "locked": true,
     "schema_version": 3,
     "solution": false,
     "task": false
    }
   },
   "source": [
    "On dit qu'un arbre est un *peigne* si tous les noeuds à l'exception éventuelle de la racine ont au moins une feuille pour fils. \n",
    "\n",
    "On dit qu'un peigne est un *peigne strict* si sa racine a au moins une feuille pour fils, ou s'il est réduit à une feuille. \n",
    "\n",
    "On dit qu'un peigne est *rangé* si le fils droit d'un noeud est toujours une feuille. \n",
    "Un arbre réduit à une feuille est un peigne rangé."
   ]
  },
  {
   "cell_type": "markdown",
   "metadata": {
    "deletable": false,
    "editable": false,
    "nbgrader": {
     "cell_type": "markdown",
     "checksum": "da0eff5f80e0fe0b0448c6b3678e0241",
     "grade": false,
     "grade_id": "cell-8683f3ec3b514f72",
     "locked": true,
     "schema_version": 3,
     "solution": false,
     "task": false
    }
   },
   "source": [
    "<figure>\n",
    "<img src=\"data:image/png;base64,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\" width=500/>\n",
    "</figure>\n",
    "<center> <it>Un peigne à cinq feuilles</it></center>"
   ]
  },
  {
   "cell_type": "markdown",
   "metadata": {
    "deletable": false,
    "editable": false,
    "nbgrader": {
     "cell_type": "markdown",
     "checksum": "490a498d36986c4393cf5818d88e6132",
     "grade": false,
     "grade_id": "cell-8b4553b98467ce16",
     "locked": true,
     "schema_version": 3,
     "solution": false,
     "task": false
    }
   },
   "source": [
    "<font size=\"5\">👩🏽‍💻</font> Donner la représentation en OCaml du peigne à $5$ feuilles de la figure 2. On définira pour cela une variable `peigne`."
   ]
  },
  {
   "cell_type": "code",
   "execution_count": null,
   "metadata": {
    "deletable": false,
    "nbgrader": {
     "cell_type": "code",
     "checksum": "dd226d161e5afe306a41544ca2cf7e79",
     "grade": true,
     "grade_id": "cell-a9ebb83ab0efb7fc",
     "locked": false,
     "points": 1,
     "schema_version": 3,
     "solution": true,
     "task": false
    }
   },
   "outputs": [],
   "source": []
  },
  {
   "cell_type": "markdown",
   "metadata": {
    "deletable": false,
    "editable": false,
    "nbgrader": {
     "cell_type": "markdown",
     "checksum": "b3346c96ca2ac67fe7241f88c6691667",
     "grade": false,
     "grade_id": "cell-5def8b5ad1fe8c54",
     "locked": true,
     "schema_version": 3,
     "solution": false,
     "task": false
    }
   },
   "source": [
    "<font size=\"5\">❓</font>  Est-il strict ? Est-il rangé ?"
   ]
  },
  {
   "cell_type": "markdown",
   "metadata": {
    "deletable": false,
    "nbgrader": {
     "cell_type": "markdown",
     "checksum": "3a84119979db9679bc1c3e2d77f2ed9b",
     "grade": true,
     "grade_id": "cell-fe4a2bd9c1beadf5",
     "locked": false,
     "points": 0,
     "schema_version": 3,
     "solution": true,
     "task": false
    }
   },
   "source": [
    "✍️ "
   ]
  },
  {
   "cell_type": "markdown",
   "metadata": {
    "deletable": false,
    "editable": false,
    "nbgrader": {
     "cell_type": "markdown",
     "checksum": "68ba5a7df89540ef2fc891bac953c693",
     "grade": false,
     "grade_id": "cell-d3affa9c9a8c3ff1",
     "locked": true,
     "schema_version": 3,
     "solution": false,
     "task": false
    }
   },
   "source": [
    "<font size=\"5\">❓</font> Quelle est la hauteur d'un peigne rangé à $n$ feuilles ? On justifiera la réponse."
   ]
  },
  {
   "cell_type": "markdown",
   "metadata": {
    "deletable": false,
    "nbgrader": {
     "cell_type": "markdown",
     "checksum": "9be57b2ba30abb49e80006ace08d6043",
     "grade": true,
     "grade_id": "cell-8dde1a399158f373",
     "locked": false,
     "points": 0,
     "schema_version": 3,
     "solution": true,
     "task": false
    }
   },
   "source": [
    "✍️ "
   ]
  },
  {
   "cell_type": "markdown",
   "metadata": {},
   "source": [
    "La cellule suivante sert à charger les fonctions nécessaires à l'exécution des tests pour les fonctions du TP. N'oubliez donc pas de l'exécuter."
   ]
  },
  {
   "cell_type": "code",
   "execution_count": null,
   "metadata": {
    "deletable": false,
    "editable": false,
    "nbgrader": {
     "cell_type": "code",
     "checksum": "025fb055bc58f1f779003e73a1328a5e",
     "grade": false,
     "grade_id": "cell-1ed57a7432740391",
     "locked": true,
     "schema_version": 3,
     "solution": false,
     "task": false
    }
   },
   "outputs": [],
   "source": [
    "module Utils = struct\n",
    "  let fonction_test nom b =\n",
    "    let () = print_endline (Printf.sprintf \"%s : %s\" nom (if b then \"\\027[1m\\027[32mOK\\027[0m\" else \"\\027[1m\\027[31méchec\\027[0m\")) in b\n",
    "  let rec test_liste comp pretty_print f lst  =    \n",
    "    let rec loop lst ok total =\n",
    "      match lst with\n",
    "      | [] -> ok, total\n",
    "      | (t,tt)::q -> loop q (ok + if fonction_test (pretty_print t) (comp (f t) tt) then 1 else 0) (total + 1) \n",
    "    in let ok, total = loop lst 0 0 in print_endline (Printf.sprintf \"\\027[1m%i/%i tests réussis\\027[0m\" ok total)    \n",
    "  let rec test_liste_avec_nom comp f lst = \n",
    "    let rec loop lst ok total =\n",
    "      match lst with\n",
    "      | [] -> ok, total\n",
    "      | (nom, t, tt)::q -> loop q (ok + if fonction_test nom (comp (f t) tt) then 1 else 0) (total + 1) \n",
    "    in let ok, total = loop lst 0 0 in print_endline (Printf.sprintf \"\\027[1m%i/%i tests réussis\\027[0m\" ok total)   \n",
    "  let uncurry2 f (x,y) = f x y      \n",
    "  let uncurry3 f (x,y,z) = f x y z\n",
    "end \n",
    "\n",
    "module Test = struct\n",
    "  let un_peigne_de_test = Noeud (Noeud (Feuille 1, Noeud (Feuille 3, Feuille 4)),                                   Noeud (Feuille 2, Feuille 5))\n",
    "  let un_peigne_range = Noeud (Noeud (Noeud (Noeud (Feuille 2, Feuille 5), Feuille 1), Feuille 4), Feuille 3)\n",
    "  let envers = Noeud (Feuille 1, Noeud (Feuille 2,Noeud (Feuille 3,Noeud (Feuille 4,Noeud (Feuille 5,Noeud (Feuille 6,Feuille 7))))))      \n",
    "  let un_arbre = Noeud (Noeud (Feuille 1,Noeud (Feuille 3,Feuille 4)),Noeud (Noeud (Feuille 2,Feuille 5),Noeud(Feuille 6,Feuille 7)))\n",
    "  let un_autre_arbre = Noeud (Noeud (Noeud (Feuille 2, Feuille 5), Noeud(Feuille 6, Feuille 7)),Feuille 2)\n",
    "  let presque_range = Noeud (Noeud (Feuille 1, Noeud (Feuille 2, Feuille 3)),Feuille 4)\n",
    "  let envers_range = Noeud (Noeud (Noeud (Noeud (Noeud (Noeud (Feuille 1, Feuille 2), Feuille 3), Feuille 4), Feuille 5), Feuille 6), Feuille 7)\n",
    "  let un_autre_peigne = Noeud (Noeud (Feuille 1, Feuille 8), Noeud (Noeud (Feuille 3, Noeud (Feuille 4, Noeud (Feuille 5, Noeud (Feuille 6,Feuille 7)))),\n",
    "                                  Feuille 2))\n",
    "  let est_range f =    \n",
    "    let tests = [(\"Un peigne\", un_peigne_de_test, false);(\"Un peigne rangé\", un_peigne_range, true);(\"Un peigne\", un_peigne_de_test, false);(\"Un peigne à l'envers\", envers, false);(\"Encore un peigne\", Noeud (envers_range, un_peigne_range), false);(\"Une feuille\", Feuille 3 , true);] in        \n",
    "    Utils.test_liste_avec_nom (=) f tests    \n",
    "  let est_peigne_strict f =    \n",
    "    let tests = [(\"Un peigne\", un_peigne_de_test, false);(\"Un peigne strict\", presque_range, true);(\"Un arbre\", un_arbre, false);(\"Un autre arbre\", un_autre_arbre, false);(\"Une feuille\", Feuille 3 , true);] in        \n",
    "    Utils.test_liste_avec_nom (=)  f tests    \n",
    "  let est_peigne f =    \n",
    "    let tests = [(\"Un peigne\", un_peigne_de_test, true);(\"Un peigne strict\", presque_range, true);(\"Encore un peigne\", Noeud (envers_range, un_peigne_range), true);(\"Un arbre\", un_arbre, false);(\"Un autre arbre\", un_autre_arbre, false);(\"Une feuille\", Feuille 3 , true);] in        \n",
    "    Utils.test_liste_avec_nom (=)  f tests   \n",
    "  let rotation f =\n",
    "    let un_peigne_rot = Noeud (Noeud (Noeud (Feuille 1, Noeud (Feuille 3, Feuille 4)), Feuille 5), Feuille 2)\n",
    "    and un_peigne_rot_bis =   Noeud (Noeud (Noeud (Feuille 1, Noeud (Feuille 3, Feuille 4)), Feuille 2), Feuille 5) in\n",
    "    let un_autre_peigne = Noeud (Noeud (Feuille 1, Feuille 8), Noeud (Noeud (Feuille 3, Noeud (Feuille 4, Noeud (Feuille 5, Noeud (Feuille 6,Feuille 7)))),Feuille 2))\n",
    "    and autre_peigne_rot = Noeud (Noeud (Noeud (Feuille 1, Feuille 8), Feuille 2), Noeud (Feuille 3, Noeud (Feuille 4, Noeud (Feuille 5, Noeud (Feuille 6, Feuille 7))))) in\n",
    "    let tests = [(\"Un peigne\", un_peigne_de_test, [un_peigne_rot;un_peigne_rot_bis]);   (\"Un autre peigne\", un_autre_peigne, [autre_peigne_rot])] in\n",
    "    Utils.test_liste_avec_nom List.mem f tests  \n",
    "  let rangement f =\n",
    "    let peigne_range = Noeud (Noeud (Noeud (Noeud (Feuille 2, Feuille 5), Feuille 1), Feuille 4), Feuille 3) in\n",
    "    let peigne_range_bis = Noeud (Noeud (Noeud (Noeud (Feuille 2, Feuille 5), Feuille 1), Feuille 3),Feuille 4) in\n",
    "    let un_peigne_de_test_range  = Noeud (Noeud (Noeud (Noeud (Feuille 1, Feuille 4), Feuille 3), Feuille 5), Feuille 2) in\n",
    "    let un_peigne_de_test_range_bis = Noeud (Noeud (Noeud (Noeud (Feuille 1, Feuille 3), Feuille 4), Feuille 2),Feuille 5) in\n",
    "    let presque_range_range = Noeud (Noeud (Noeud (Feuille 1, Feuille 3), Feuille 2), Feuille 4) in \n",
    "    let presque_range_range_bis = Noeud (Noeud (Noeud (Feuille 1, Feuille 2), Feuille 3), Feuille 4) in  \n",
    "    let envers_range = Noeud (Noeud (Noeud (Noeud (Noeud (Noeud (Feuille 1, Feuille 2), Feuille 3), Feuille 4),Feuille 5), Feuille 6), Feuille 7) in\n",
    "    let envers_range_bis = Noeud (Noeud (Noeud (Noeud (Noeud (Noeud (Feuille 1, Feuille 2), Feuille 3), Feuille 4),Feuille 5), Feuille 7), Feuille 6) in\n",
    "    let tests = [(\"Peigne figure 1\", peigne, [peigne_range;peigne_range_bis]); (\"Un peigne\", un_peigne_de_test, [un_peigne_de_test_range;un_peigne_de_test_range_bis]);(\"un peigne presque rangé\", presque_range, [presque_range_range;presque_range_range_bis]);(\"un peigne à l'envers\", envers, [envers_range;envers_range_bis]);] in\n",
    "    Utils.test_liste_avec_nom List.mem f tests \n",
    "end\n"
   ]
  },
  {
   "cell_type": "markdown",
   "metadata": {
    "deletable": false,
    "editable": false,
    "nbgrader": {
     "cell_type": "markdown",
     "checksum": "4f6df46b206ba0aca8b109933420e686",
     "grade": false,
     "grade_id": "cell-0cc0fe8f1f8e8d6e",
     "locked": true,
     "schema_version": 3,
     "solution": false,
     "task": false
    }
   },
   "source": [
    "<font size=\"5\">👨🏿‍💻</font>   Ecrire une fonction `est_range : arbre -> bool` qui renvoie `true` si l'arbre donné en argument est un peigne rangé."
   ]
  },
  {
   "cell_type": "code",
   "execution_count": null,
   "metadata": {
    "deletable": false,
    "nbgrader": {
     "cell_type": "code",
     "checksum": "8276329d40665c2f328317f670f280c2",
     "grade": false,
     "grade_id": "cell-ddae718f9a27119e",
     "locked": false,
     "schema_version": 3,
     "solution": true,
     "task": false
    }
   },
   "outputs": [],
   "source": []
  },
  {
   "cell_type": "markdown",
   "metadata": {},
   "source": [
    "**Tests personnels**"
   ]
  },
  {
   "cell_type": "code",
   "execution_count": null,
   "metadata": {},
   "outputs": [],
   "source": [
    "(* Utiliser la cellule pour exécuter quelques appels et vérifier les résultats obtenus *)"
   ]
  },
  {
   "cell_type": "markdown",
   "metadata": {},
   "source": [
    "**Tests automatiques**"
   ]
  },
  {
   "cell_type": "code",
   "execution_count": null,
   "metadata": {
    "deletable": false,
    "editable": false,
    "nbgrader": {
     "cell_type": "code",
     "checksum": "8aa6d059cacef635d76e866e77332248",
     "grade": true,
     "grade_id": "cell-23416d593d1fc256",
     "locked": true,
     "points": 1,
     "schema_version": 3,
     "solution": false,
     "task": false
    }
   },
   "outputs": [],
   "source": [
    "(* Exécutez cette cellule pour tester votre fonction *)\n",
    "let () = Test.est_range est_range;;"
   ]
  },
  {
   "cell_type": "markdown",
   "metadata": {
    "deletable": false,
    "editable": false,
    "nbgrader": {
     "cell_type": "markdown",
     "checksum": "ed9b9b2611f22ea175c8685bd4d5d529",
     "grade": false,
     "grade_id": "cell-bde7c2096251819b",
     "locked": true,
     "schema_version": 3,
     "solution": false,
     "task": false
    }
   },
   "source": [
    "<font size=\"5\"> 👩🏼‍💻</font>   Ecrire une fonction `est_peigne_strict : arbre -> bool` qui renvoie `true` si l'arbre donné en argument est un peigne strict. "
   ]
  },
  {
   "cell_type": "code",
   "execution_count": null,
   "metadata": {
    "deletable": false,
    "nbgrader": {
     "cell_type": "code",
     "checksum": "98147ea84ddc3756bb98a65e04f0a98d",
     "grade": false,
     "grade_id": "cell-4d8d97114a03464e",
     "locked": false,
     "schema_version": 3,
     "solution": true,
     "task": false
    }
   },
   "outputs": [],
   "source": [
    "(*À remplacer par votre code*)\n",
    "failwith \"Code manquant\""
   ]
  },
  {
   "cell_type": "markdown",
   "metadata": {},
   "source": [
    "**Tests personnels**"
   ]
  },
  {
   "cell_type": "code",
   "execution_count": null,
   "metadata": {},
   "outputs": [],
   "source": [
    "(* Utiliser la cellule pour exécuter quelques appels et vérifier les résultats obtenus *)"
   ]
  },
  {
   "cell_type": "markdown",
   "metadata": {},
   "source": [
    "**Tests automatiques**"
   ]
  },
  {
   "cell_type": "code",
   "execution_count": null,
   "metadata": {
    "deletable": false,
    "editable": false,
    "nbgrader": {
     "cell_type": "code",
     "checksum": "b65c56ad7088189017d1617ec45bc712",
     "grade": true,
     "grade_id": "cell-04fe4da0440439ce",
     "locked": true,
     "points": 1,
     "schema_version": 3,
     "solution": false,
     "task": false
    }
   },
   "outputs": [],
   "source": [
    "(* Exécutez cette cellule pour tester votre fonction *)\n",
    "let () = Test.est_peigne_strict est_peigne_strict;;"
   ]
  },
  {
   "cell_type": "markdown",
   "metadata": {
    "deletable": false,
    "editable": false,
    "nbgrader": {
     "cell_type": "markdown",
     "checksum": "7ab8a93d99e4f9e55b5ebb7de88c3779",
     "grade": false,
     "grade_id": "cell-441c357bff0e758e",
     "locked": true,
     "schema_version": 3,
     "solution": false,
     "task": false
    }
   },
   "source": [
    "<font size=\"5\">👨🏽‍💻</font>   En déduire une fonction `est_peigne : arbre -> bool` qui renvoie `true` si l'arbre donné en argument est un peigne."
   ]
  },
  {
   "cell_type": "code",
   "execution_count": null,
   "metadata": {
    "deletable": false,
    "nbgrader": {
     "cell_type": "code",
     "checksum": "f43e893a23291fa0d8de057fade8cd4c",
     "grade": false,
     "grade_id": "cell-abfd5419f7ad3b29",
     "locked": false,
     "schema_version": 3,
     "solution": true,
     "task": false
    }
   },
   "outputs": [],
   "source": [
    "(*À remplacer par votre code*)\n",
    "failwith \"Code manquant\""
   ]
  },
  {
   "cell_type": "markdown",
   "metadata": {},
   "source": [
    "**Tests personnels**"
   ]
  },
  {
   "cell_type": "code",
   "execution_count": null,
   "metadata": {},
   "outputs": [],
   "source": [
    "(* Utiliser la cellule pour exécuter quelques appels et vérifier les résultats obtenus *)"
   ]
  },
  {
   "cell_type": "markdown",
   "metadata": {},
   "source": [
    "**Tests automatiques**"
   ]
  },
  {
   "cell_type": "code",
   "execution_count": null,
   "metadata": {
    "deletable": false,
    "editable": false,
    "nbgrader": {
     "cell_type": "code",
     "checksum": "8e2474b8d0306a665b112470e6c49c5a",
     "grade": true,
     "grade_id": "cell-976d70662e8320e3",
     "locked": true,
     "points": 1,
     "schema_version": 3,
     "solution": false,
     "task": false
    }
   },
   "outputs": [],
   "source": [
    "(* Exécutez cette cellule pour tester votre fonction *)\n",
    "let () = Test.est_peigne est_peigne;;"
   ]
  },
  {
   "cell_type": "markdown",
   "metadata": {
    "deletable": false,
    "editable": false,
    "nbgrader": {
     "cell_type": "markdown",
     "checksum": "98db989b6ccad04c4143dc445e6178f0",
     "grade": false,
     "grade_id": "cell-d547a518267d044e",
     "locked": true,
     "schema_version": 3,
     "solution": false,
     "task": false
    }
   },
   "source": [
    "On souhaite ranger un peigne donné. Supposons que le fils droit $N$ de sa racine ne soit pas une feuille. \n",
    "Notons $A_1$ le sous-arbre gauche de la racine, $f$ l'une des feuilles du noeud $N$ et  $A_2$ l'autre sous-arbre du noeud $N$. \n",
    "On va utiliser l'opération de `rotation` qui construit un nouveau peigne où\n",
    "-  le fils droit de la racine est le sous-arbre $A_2$ ;\n",
    "- le fils gauche de la racine est un noeud de sous-arbre gauche $A_1$ et de sous-arbre droit la feuille $f$.\n"
   ]
  },
  {
   "cell_type": "markdown",
   "metadata": {
    "deletable": false,
    "editable": false,
    "nbgrader": {
     "cell_type": "markdown",
     "checksum": "3d2d1a1b1ab97d0cb55aea3f9a0bb063",
     "grade": false,
     "grade_id": "cell-e6ff4c4f3f3b0719",
     "locked": true,
     "schema_version": 3,
     "solution": false,
     "task": false
    }
   },
   "source": [
    "<figure>\n",
    "<img src=\"data:image/png;base64,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\" width=500/>\n",
    "</figure>\n",
    "<center> <em>Une rotation</em></center>"
   ]
  },
  {
   "cell_type": "markdown",
   "metadata": {
    "deletable": false,
    "editable": false,
    "nbgrader": {
     "cell_type": "markdown",
     "checksum": "ae37823eca7c39e61ba524af8ad197fe",
     "grade": false,
     "grade_id": "cell-0d1697bedc670a3a",
     "locked": true,
     "schema_version": 3,
     "solution": false,
     "task": false
    }
   },
   "source": [
    "<font size=\"5\"> 👩‍💻 </font>   Donner la représentation en OCaml du peigne obtenu après une rotation sur le peigne de la figure 2."
   ]
  },
  {
   "cell_type": "code",
   "execution_count": null,
   "metadata": {
    "deletable": false,
    "nbgrader": {
     "cell_type": "code",
     "checksum": "b258933690ce571b6d7182236efd330e",
     "grade": true,
     "grade_id": "cell-7a1e1494ea71c386",
     "locked": false,
     "points": 0,
     "schema_version": 3,
     "solution": true,
     "task": false
    }
   },
   "outputs": [],
   "source": [
    "let peigne_apres_rotation = \n",
    "(*À remplacer par votre code*)\n",
    "failwith \"Code manquant\""
   ]
  },
  {
   "cell_type": "markdown",
   "metadata": {
    "deletable": false,
    "editable": false,
    "nbgrader": {
     "cell_type": "markdown",
     "checksum": "5038b8eaf8192e6d904e072b2c26d34a",
     "grade": false,
     "grade_id": "cell-38d15169fad49ff9",
     "locked": true,
     "schema_version": 3,
     "solution": false,
     "task": false
    }
   },
   "source": [
    "<font size=\"5\">👨🏼‍💻</font>   Écrire une fonction `rotation : arbre -> arbre` qui effectue l'opération décrite ci-dessus. La fonction renverra l'arbre initial si une rotation n'est pas possible."
   ]
  },
  {
   "cell_type": "code",
   "execution_count": null,
   "metadata": {
    "deletable": false,
    "nbgrader": {
     "cell_type": "code",
     "checksum": "7efa22649be788440e282e1cdd2ecd86",
     "grade": false,
     "grade_id": "cell-53e641c6cbe91524",
     "locked": false,
     "schema_version": 3,
     "solution": true,
     "task": false
    }
   },
   "outputs": [],
   "source": [
    "(*À remplacer par votre code*)\n",
    "failwith \"Code manquant\""
   ]
  },
  {
   "cell_type": "markdown",
   "metadata": {},
   "source": [
    "**Tests personnels**"
   ]
  },
  {
   "cell_type": "code",
   "execution_count": null,
   "metadata": {},
   "outputs": [],
   "source": [
    "(* Utiliser la cellule pour exécuter quelques appels et vérifier les résultats obtenus *)"
   ]
  },
  {
   "cell_type": "markdown",
   "metadata": {},
   "source": [
    "**Tests automatiques**"
   ]
  },
  {
   "cell_type": "code",
   "execution_count": null,
   "metadata": {
    "deletable": false,
    "editable": false,
    "nbgrader": {
     "cell_type": "code",
     "checksum": "9da245219a0ab8a01ed05260749e8d5d",
     "grade": true,
     "grade_id": "cell-c4b31075fc25b1b0",
     "locked": true,
     "points": 1,
     "schema_version": 3,
     "solution": false,
     "task": false
    }
   },
   "outputs": [],
   "source": [
    "(* Exécutez cette cellule pour tester votre fonction *)\n",
    "let () = Test.rotation rotation;;"
   ]
  },
  {
   "cell_type": "markdown",
   "metadata": {
    "deletable": false,
    "editable": false,
    "nbgrader": {
     "cell_type": "markdown",
     "checksum": "217b1573a0e5f318e434a9a05d57b17e",
     "grade": false,
     "grade_id": "cell-e6170064faf43fbc",
     "locked": true,
     "schema_version": 3,
     "solution": false,
     "task": false
    }
   },
   "source": [
    "<font size=\"5\">👩🏾‍💻</font> En déduire une fonction `rangement : arbre -> arbre` qui range un peigne donné en argument, c'est-à-dire qui renvoie un peigne rangé ayant les mêmes feuilles que celui donné en argument. \n",
    "\n",
    "La fonction renverra l'arbre initial si celui-ci n'est pas un peigne."
   ]
  },
  {
   "cell_type": "code",
   "execution_count": null,
   "metadata": {
    "deletable": false,
    "nbgrader": {
     "cell_type": "code",
     "checksum": "b5226b900d0d8431d03834c33944485c",
     "grade": false,
     "grade_id": "cell-85d1e7270c0aa521",
     "locked": false,
     "schema_version": 3,
     "solution": true,
     "task": false
    }
   },
   "outputs": [],
   "source": [
    "(*À remplacer par votre code*)\n",
    "failwith \"Code manquant\""
   ]
  },
  {
   "cell_type": "markdown",
   "metadata": {},
   "source": [
    "**Tests personnels**"
   ]
  },
  {
   "cell_type": "code",
   "execution_count": null,
   "metadata": {},
   "outputs": [],
   "source": [
    "(* Utiliser la cellule pour exécuter quelques appels et vérifier les résultats obtenus *)"
   ]
  },
  {
   "cell_type": "markdown",
   "metadata": {},
   "source": [
    "**Tests automatiques**"
   ]
  },
  {
   "cell_type": "code",
   "execution_count": null,
   "metadata": {},
   "outputs": [],
   "source": [
    "let () = \n",
    "  let rec feuilles a  = \n",
    "    match a with\n",
    "    | Feuille x -> [x]\n",
    "    | Noeud (fg, fd) -> feuilles fg @ feuilles fd\n",
    "  in\n",
    "  let params = [(\"Peigne figure 1 (propriétés)\", peigne);(\"Un peigne (propriétés)\", Test.un_peigne_de_test);(\"un peigne presque rangé (propriétés)\", Test.presque_range);  (\"Un peigne à l'envers (propriétés)\", Test.envers);(\"Encore un peigne (propriétés)\", Test.un_autre_peigne)] in\n",
    "  let tests = List.map (fun (s,a) -> (s,a, a)) params in\n",
    "  print_endline \"\\027[1m\\027[4mVérification des propriétés du peigne obtenu\\027[0m\"; let test_comp ar a = est_range ar && (List.sort compare (feuilles a) = List.sort compare (feuilles ar)) in Utils.test_liste_avec_nom test_comp rangement tests ; print_newline ();  \n",
    "  print_endline \"\\027[1m\\027[4mCas d'un arbre n'étant pas un peigne\\027[0m\"; Utils.test_liste_avec_nom (=) rangement [(\"Pas un peigne\",Test.un_arbre,Test.un_arbre)]; print_newline ();  \n",
    "  print_endline \"\\027[1m\\027[4mVérification de la cohérence avec l'algorithme sugéré\\027[0m\"; Test.rangement rangement"
   ]
  },
  {
   "cell_type": "markdown",
   "metadata": {
    "deletable": false,
    "editable": false,
    "nbgrader": {
     "cell_type": "markdown",
     "checksum": "f1cc21b64a87705ca874b69ec49eda45",
     "grade": false,
     "grade_id": "cell-81e6ef00bb6f9660",
     "locked": true,
     "schema_version": 3,
     "solution": false,
     "task": false
    }
   },
   "source": [
    "<font size=\"5\">❓</font>   Prouver que la fonction `rangement` termine."
   ]
  },
  {
   "cell_type": "markdown",
   "metadata": {
    "deletable": false,
    "nbgrader": {
     "cell_type": "markdown",
     "checksum": "afb6b3a24d9b48c7f37620f3ccbce490",
     "grade": true,
     "grade_id": "cell-8385b8a2b2627ad7",
     "locked": false,
     "points": 0,
     "schema_version": 3,
     "solution": true,
     "task": false
    }
   },
   "source": [
    "✍️ *Votre réponse*"
   ]
  }
 ],
 "metadata": {
  "kernelspec": {
   "display_name": "OCaml default",
   "language": "OCaml",
   "name": "ocaml-jupyter-default"
  },
  "language_info": {
   "codemirror_mode": "text/x-ocaml",
   "file_extension": ".ml",
   "mimetype": "text/x-ocaml",
   "name": "OCaml",
   "nbconverter_exporter": null,
   "pygments_lexer": "OCaml",
   "version": "4.14.2"
  },
  "latex_envs": {
   "LaTeX_envs_menu_present": true,
   "autoclose": false,
   "autocomplete": true,
   "bibliofile": "biblio.bib",
   "cite_by": "apalike",
   "current_citInitial": 1,
   "eqLabelWithNumbers": true,
   "eqNumInitial": 1,
   "hotkeys": {
    "equation": "Ctrl-E",
    "itemize": "Ctrl-I"
   },
   "labels_anchors": false,
   "latex_user_defs": false,
   "report_style_numbering": true,
   "user_envs_cfg": true
  }
 },
 "nbformat": 4,
 "nbformat_minor": 4
}
