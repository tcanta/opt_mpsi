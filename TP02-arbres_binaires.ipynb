{
 "cells": [
  {
   "cell_type": "markdown",
   "metadata": {
    "deletable": false,
    "editable": false,
    "nbgrader": {
     "cell_type": "markdown",
     "checksum": "f21de29d9f48f4d132381f33998958cf",
     "grade": false,
     "grade_id": "cell-b53c827454a17712",
     "locked": true,
     "schema_version": 3,
     "solution": false,
     "task": false
    }
   },
   "source": [
    "# Introduction aux arbres binaires\n",
    "## Un peu de vocabulaire\n",
    "Un *arbre binaire* est une structure de données hiérarchique dont les éléments sont appelés des *nœuds*, chaque nœud possédant au plus deux éléments au niveau inférieur, appelés *fils gauche* et *fils droit* du nœud (qui est alors le *père* de ses éventuels fils).\n",
    "\n",
    "<img src=\"data:image/png;base64,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\" width=400/>\n"
   ]
  },
  {
   "cell_type": "markdown",
   "metadata": {
    "deletable": false,
    "editable": false,
    "nbgrader": {
     "cell_type": "markdown",
     "checksum": "c0a8e47ffa8aa14e1562551cfac20cf8",
     "grade": false,
     "grade_id": "cell-5a1dbab2ee270de5",
     "locked": true,
     "schema_version": 3,
     "solution": false,
     "task": false
    }
   },
   "source": [
    "Le nœud initial d'un arbre binaire non vide est appelé la *racine* de l'arbre. Un élément n'ayant aucun fils est appelé une  *feuille* ; un nœud qui possède au moins un fils est appelé un *nœud interne*. \n",
    "\n",
    "Pour l'arbre de la figure 1, la racine est le nœud $1$, les feuilles sont les nœuds $3$, $4$, $7$ et $8$.\n",
    "\n",
    "La *profondeur* d'un nœud est sa distance par rapport à la racine. La *hauteur* d'un arbre est la profondeur maximale de ses nœuds.\n",
    "\n",
    "*Remarque : Il existe en réalité deux définitions de la hauteur d'un arbre ; nous choisirons celle-ci pour ce TP.*.\n",
    "\n",
    "Dans l'arbre de la figure 1, la profondeur du nœud $6$ est $2$ ; la hauteur de l'arbre est $3$.\n",
    "\n",
    "Chaque nœud est la racine d'un arbre constitué de lui-même et de sa descendance : on parle alors de *sous-arbre* de l'arbre initial.\n",
    "\n",
    "Enfin, un *arbre binaire strict* est un arbre binaire tel que chaque nœud interne possède exactement deux fils."
   ]
  },
  {
   "cell_type": "markdown",
   "metadata": {
    "deletable": false,
    "editable": false,
    "nbgrader": {
     "cell_type": "markdown",
     "checksum": "3fea59faf9c5cfe3f93459b2dc419f27",
     "grade": false,
     "grade_id": "cell-793455cb202fec24",
     "locked": true,
     "schema_version": 3,
     "solution": false,
     "task": false
    }
   },
   "source": [
    "## Implémentation et fonctions élémentaires\n",
    "\n",
    "Dans un premier temps, pour implémenter les arbres binaires, on utilisera le type suivant :"
   ]
  },
  {
   "cell_type": "code",
   "execution_count": 1,
   "metadata": {
    "deletable": false,
    "editable": false,
    "nbgrader": {
     "cell_type": "code",
     "checksum": "813a3ad9bf53190eff2d8b08ff7128c3",
     "grade": false,
     "grade_id": "cell-d2a650f19b28dc1e",
     "locked": true,
     "schema_version": 3,
     "solution": false,
     "task": false
    }
   },
   "outputs": [
    {
     "data": {
      "text/plain": [
       "type 'a arbre = Vide | Noeud of 'a * 'a arbre * 'a arbre\n"
      ]
     },
     "execution_count": 1,
     "metadata": {},
     "output_type": "execute_result"
    }
   ],
   "source": [
    "type 'a arbre =\n",
    "  | Vide\n",
    "  | Noeud of 'a * 'a arbre * 'a arbre\n",
    ";;"
   ]
  },
  {
   "cell_type": "markdown",
   "metadata": {
    "deletable": false,
    "editable": false,
    "nbgrader": {
     "cell_type": "markdown",
     "checksum": "69512a2d0d8fc8c890dfc46da3756388",
     "grade": false,
     "grade_id": "cell-f0b4b06c58ba1cbf",
     "locked": true,
     "schema_version": 3,
     "solution": false,
     "task": false
    }
   },
   "source": [
    "La cellule suivante sert à charger les fonctions nécessaires à l'exécution des tests pour les fonctions du TP. N'oubliez donc pas de l'exécuter."
   ]
  },
  {
   "cell_type": "code",
   "execution_count": 2,
   "metadata": {
    "deletable": false,
    "editable": false,
    "nbgrader": {
     "cell_type": "code",
     "checksum": "d5ed0ec16f889956b909c33195f9fa85",
     "grade": false,
     "grade_id": "cell-49301f0d9c71d6e1",
     "locked": true,
     "schema_version": 3,
     "solution": false,
     "task": false
    }
   },
   "outputs": [
    {
     "data": {
      "text/plain": [
       "module Utils :\n",
       "  sig\n",
       "    val fonction_test : string -> bool -> bool\n",
       "    val test_liste : ('a -> string) -> ('a -> 'b) -> ('a * 'b) list -> unit\n",
       "    val test_liste_avec_nom : ('a -> 'b) -> (string * 'a * 'b) list -> unit\n",
       "    val uncurry2 : ('a -> 'b -> 'c) -> 'a * 'b -> 'c\n",
       "    val uncurry3 : ('a -> 'b -> 'c -> 'd) -> 'a * 'b * 'c -> 'd\n",
       "  end\n"
      ]
     },
     "execution_count": 2,
     "metadata": {},
     "output_type": "execute_result"
    },
    {
     "data": {
      "text/plain": [
       "module Test :\n",
       "  sig\n",
       "    val peigne : int arbre\n",
       "    val arbre_strict_1 : int arbre\n",
       "    val arbre_strict_2 : int arbre\n",
       "    val arbre_desequilibre : int arbre\n",
       "    val arbre_maigre : int arbre\n",
       "    val un_arbre_de_test : int arbre\n",
       "    val est_strict : (int arbre -> bool) -> unit\n",
       "    val nb_noeuds : (int arbre -> int) -> unit\n",
       "    val nb_feuilles : (int arbre -> int) -> unit\n",
       "    val hauteur : (int arbre -> int) -> unit\n",
       "    val recherche : (int -> int arbre -> bool) -> unit\n",
       "    val maxi : (int arbre -> int) -> unit\n",
       "    val somme : (int arbre -> int) -> unit\n",
       "    val somme_max_branche : (int arbre -> int) -> unit\n",
       "    val diametre : (int arbre -> int) -> unit\n",
       "  end\n"
      ]
     },
     "execution_count": 2,
     "metadata": {},
     "output_type": "execute_result"
    }
   ],
   "source": [
    "module Utils = struct\n",
    "  let fonction_test nom b =\n",
    "    let () = print_endline (Printf.sprintf \"%s : %s\" nom (if b then \"\\027[1m\\027[32mOK\\027[0m\" else \"\\027[1m\\027[31méchec\\027[0m\"))\n",
    "    in b\n",
    "\n",
    "  let rec test_liste pretty_print f lst =    \n",
    "    let rec loop lst ok total =\n",
    "      match lst with\n",
    "      | [] -> ok, total\n",
    "      | (t,tt)::q ->\n",
    "        loop q (ok + if fonction_test (pretty_print t) (f t = tt) then 1 else 0) (total + 1) \n",
    "    in     \n",
    "    let ok, total = loop lst 0 0 in\n",
    "    print_endline (Printf.sprintf \"%i/%i tests réussis\" ok total)\n",
    "    \n",
    "  let rec test_liste_avec_nom f lst = \n",
    "    let rec loop lst ok total =\n",
    "      match lst with\n",
    "      | [] -> ok, total\n",
    "      | (nom, t, tt)::q ->\n",
    "        loop q (ok + if fonction_test nom (f t = tt) then 1 else 0) (total + 1) \n",
    "    in     \n",
    "    let ok, total = loop lst 0 0 in\n",
    "    print_endline (Printf.sprintf \"%i/%i tests réussis\" ok total)\n",
    "      \n",
    "  let uncurry2 f (x,y) = f x y\n",
    "      \n",
    "  let uncurry3 f (x,y,z) = f x y z\n",
    "\n",
    "end \n",
    "\n",
    "module Test = struct\n",
    "  let peigne = Noeud (8, Noeud (7, Noeud (6, Noeud (8, Noeud (5, Vide, Vide), Vide), Vide), Vide), Vide)\n",
    "  \n",
    "  let arbre_strict_1 = Noeud (1,Noeud (2, Noeud (3, Vide, Vide), Noeud (4, Vide, Vide)),\n",
    "                                Noeud (5, Noeud (6,  Vide, Vide), \n",
    "                                          Noeud (9, Vide, Vide))\n",
    "                             )\n",
    "                             \n",
    "  let arbre_strict_2 = Noeud (1,Noeud (2, Noeud (3, Vide, Vide), Noeud (4, Vide, Vide)),\n",
    "                                  Noeud (5, Noeud (6, Noeud (7, Vide, Vide), Noeud (8, Vide, Vide)), \n",
    "                                            Noeud (9, Vide, Vide))\n",
    "                               ) \n",
    "  let arbre_desequilibre = Noeud(3, peigne, arbre_strict_1)  \n",
    "  \n",
    "  let arbre_maigre = (Noeud (8, Noeud (7, Noeud (6, Vide, Vide), Vide), Vide))\n",
    "\n",
    "  let un_arbre_de_test =\n",
    "      Noeud (1, Noeud (3,\n",
    "                       Noeud (12, Noeud (11, Vide, Vide), Noeud(8, Vide, Vide) ), \n",
    "                       Vide),\n",
    "                Noeud (2, Noeud (10, Vide, Vide), Noeud (6, Noeud (9, Vide, Vide), Noeud (5, Vide, Vide)))\n",
    "            )\n",
    "            \n",
    "    \n",
    "  let est_strict f =    \n",
    "    let tests = [(\"Un arbre strict\", arbre_strict_1, true); \n",
    "        (\"Une feuille\", (Noeud(5, Vide, Vide)), true);\n",
    "        (\"Un arbre\", un_arbre_de_test, false)\n",
    "        ] in        \n",
    "    Utils.test_liste_avec_nom  f tests\n",
    "    \n",
    "  let nb_noeuds f =    \n",
    "    let tests = [(\"Une feuille\", (Noeud(5, Vide, Vide)), 1);\n",
    "        (\"Un arbre vide\", Vide, 0);        \n",
    "        (\"Un arbre\", un_arbre_de_test, 10)\n",
    "        ] in        \n",
    "    Utils.test_liste_avec_nom f tests\n",
    "    \n",
    "\n",
    "  let nb_feuilles f =    \n",
    "    let tests = [(\"Une feuille\", (Noeud(5, Vide, Vide)), 1);\n",
    "        (\"Un arbre vide\", Vide, 0); \n",
    "        (\"Un arbre\", un_arbre_de_test, 5)\n",
    "        ] in        \n",
    "    Utils.test_liste_avec_nom f tests\n",
    "    \n",
    "  let hauteur f =      \n",
    "    let tests = [(\"Une feuille\", (Noeud(5, Vide, Vide)), 0);\n",
    "        (\"Un arbre\", un_arbre_de_test, 3); \n",
    "        (\"Un arbre déséqulibré\", arbre_desequilibre, 5);\n",
    "        (\"Un arbre maigre\", arbre_maigre, 2)\n",
    "        ] in        \n",
    "    Utils.test_liste_avec_nom f tests\n",
    "    \n",
    "  let recherche f =      \n",
    "    let tests = [(\"Un arbre (9)\", (9, un_arbre_de_test), true); \n",
    "        (\"Un arbre (42)\", (42, un_arbre_de_test), false); \n",
    "        (\"Un arbre (0)\", (0, un_arbre_de_test), false); \n",
    "        (\"Arbre vide\", (42, Vide), false)\n",
    "        ] in        \n",
    "    Utils.test_liste_avec_nom (Utils.uncurry2 f) tests\n",
    "    \n",
    "    \n",
    "  let maxi f =      \n",
    "    let tests = [(\"Un arbre\", un_arbre_de_test, 12); \n",
    "        (\"Étiquettes négatives\", Noeud ( -1, Vide,Noeud(-2, Vide, Vide)) ,-1);\n",
    "        (\"Une feuille min_int\", Noeud (min_int, Vide, Vide), min_int);\n",
    "        (\"Un arbre binaire non strict\", Noeud (min_int, Vide, Noeud (min_int, Vide, Vide)), min_int); \n",
    "        (\"Un autre arbre binaire non strict\", Noeud (min_int, Noeud (min_int, Vide, Vide), Vide), min_int); \n",
    "        ] in        \n",
    "    Utils.test_liste_avec_nom f tests\n",
    "    \n",
    "  let somme f =    \n",
    "    let tests = [(\"Une feuille\", (Noeud(5, Vide, Vide)), 5);\n",
    "        (\"Un arbre\", un_arbre_de_test, 67)\n",
    "        ] in        \n",
    "    Utils.test_liste_avec_nom f tests\n",
    "    \n",
    "  let somme_max_branche f =    \n",
    "    let tests = [(\"Un arbre\", un_arbre_de_test, 27);\n",
    "        (\"Étiquettes négatives\", Noeud ( -1, Vide, Noeud(-2, Vide, Vide)), -3);        \n",
    "        (\"Encore des étiquettes négatives\", Noeud ( -6, Noeud(-60, Noeud(-600, Vide, Vide), Vide), Vide), -666);\n",
    "        (\"Avec un changement de signe\", Noeud (-1, Noeud(-2, Vide, Vide), Noeud(6, Vide, Vide)), 5);\n",
    "        (\"Une branche positive bien cachée\", Noeud (-1, Noeud (-1, Noeud (-1, Vide, Vide), Vide),\n",
    "                 Noeud (-1, Noeud (-20, Vide, Vide), Noeud (4,Vide, Vide))), 2);\n",
    "        (\"Un dernier test...\", Noeud ( -1, Noeud(1, Vide, Vide), Noeud(-6, Vide, Vide)), 0)\n",
    "        ] in        \n",
    "    Utils.test_liste_avec_nom f tests\n",
    "    \n",
    "  let diametre f =    \n",
    "    let fg_bis = Noeud (3, Noeud (12, Noeud (11, Vide, Vide), \n",
    "                                           Noeud(8, Noeud(9, Noeud(10, Vide, Vide), Vide),  Vide)),\n",
    "                                Noeud (4, Noeud (5, Vide, Vide), \n",
    "                                          Noeud(6, Noeud(7, Noeud (15, Vide, Noeud (16, Vide, Vide) ), Vide), \n",
    "                                                   Vide)))\n",
    "         and fd_bis = Noeud (2, Vide, Vide) in \n",
    "         let a1 =  Noeud (1, fg_bis, fd_bis) in\n",
    "         let a2 = Noeud(0, fd_bis,  Noeud (1,Vide,fg_bis)) in\n",
    "         let a3 =   Noeud (1,Vide,Noeud(2,Vide,Noeud(3,Vide,Noeud (4,Vide,Vide)))) in\n",
    "         let a4 = (Noeud (8, Noeud (7, Noeud (6, Noeud (5, Noeud (4, Vide, Vide), Vide), Vide), Vide), Noeud (42, Vide, Vide))) in\n",
    "    let tests = [(\"Un arbre\", un_arbre_de_test, 6);\n",
    "        (\"Un autre arbre\", a1, 9);        \n",
    "        (\"Encore un arbre\", a2, 9);\n",
    "        (\"Fils uniques\", a3, 3);\n",
    "        (\"Une feuille\", Noeud(0, Vide, Vide), 0);\n",
    "        (\"Un dernier test...\", a4, 5)\n",
    "        ] in        \n",
    "    Utils.test_liste_avec_nom f tests\n",
    "\n",
    "end"
   ]
  },
  {
   "cell_type": "markdown",
   "metadata": {
    "deletable": false,
    "editable": false,
    "nbgrader": {
     "cell_type": "markdown",
     "checksum": "4f2de57e2d69e6b49782b1fbd85b3175",
     "grade": false,
     "grade_id": "cell-75669edff7c4719e",
     "locked": true,
     "schema_version": 3,
     "solution": false,
     "task": false
    }
   },
   "source": [
    "<img src=\"data:image/png;base64,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\" width=400/>\n",
    "\n",
    "Par exemple, le sous-arbre gauche de l'arbre au-dessus pourra être défini par :"
   ]
  },
  {
   "cell_type": "code",
   "execution_count": null,
   "metadata": {
    "deletable": false,
    "editable": false,
    "nbgrader": {
     "cell_type": "code",
     "checksum": "a8aa00c51559aa07679349f679c299eb",
     "grade": false,
     "grade_id": "cell-f63962087f30894f",
     "locked": true,
     "schema_version": 3,
     "solution": false,
     "task": false
    }
   },
   "outputs": [],
   "source": [
    "let arbre_gauche = Noeud(2, Noeud(3, Vide, Vide), Noeud(4, Vide, Vide));;"
   ]
  },
  {
   "cell_type": "markdown",
   "metadata": {
    "deletable": false,
    "editable": false,
    "nbgrader": {
     "cell_type": "markdown",
     "checksum": "7c9c9f90a36047ad75c2ec32d10589bd",
     "grade": false,
     "grade_id": "cell-1a550ba7deb68e34",
     "locked": true,
     "schema_version": 3,
     "solution": false,
     "task": false
    }
   },
   "source": [
    "<font size=\"5\"> 👩🏽‍💻</font> Définir en OCaml une variable `mon_arbre` correspondant à l'arbre ci-dessus. On pourra utiliser l'arbre `arbre_gauche` créé précédemment, et commencer par créer un arbre `arbre_droit` pour décrire le sous-arbre droit.\n",
    "\n",
    "On prendra garde au fait que le nœud avec l'étiquette 7 est à **droite** du nœud dont l'étiquette est 6."
   ]
  },
  {
   "cell_type": "code",
   "execution_count": null,
   "metadata": {},
   "outputs": [],
   "source": [
    "(*À remplacer par votre code*)\n",
    "failwith \"Code manquant\""
   ]
  },
  {
   "cell_type": "markdown",
   "metadata": {
    "deletable": false,
    "editable": false,
    "nbgrader": {
     "cell_type": "markdown",
     "checksum": "0e06ce2eabe968da8260a5ab94dfcd7f",
     "grade": false,
     "grade_id": "cell-44e9a144cef721f1",
     "locked": true,
     "schema_version": 3,
     "solution": false,
     "task": false
    }
   },
   "source": [
    "<font size=\"5\">👨🏾‍💻</font>  Écrire une fonction `est_strict : 'a arbre -> bool`  prenant en argument un arbre et renvoyant  `true` s'il s'agit d'un arbre binaire strict,  `false` sinon."
   ]
  },
  {
   "cell_type": "code",
   "execution_count": null,
   "metadata": {
    "deletable": false,
    "nbgrader": {
     "cell_type": "code",
     "checksum": "ddc7561f71584300dac512b60109fcd1",
     "grade": false,
     "grade_id": "cell-5c6262e5d148901f",
     "locked": false,
     "schema_version": 3,
     "solution": true,
     "task": false
    }
   },
   "outputs": [],
   "source": [
    "(*À remplacer par votre code*)\n",
    "failwith \"Code manquant\""
   ]
  },
  {
   "cell_type": "markdown",
   "metadata": {
    "deletable": false,
    "editable": false,
    "nbgrader": {
     "cell_type": "markdown",
     "checksum": "eaa674e03684060eb84cb5d8fed2c688",
     "grade": false,
     "grade_id": "cell-762f4327d4a7ff97",
     "locked": true,
     "schema_version": 3,
     "solution": false,
     "task": false
    }
   },
   "source": [
    "**Tests personnels**  "
   ]
  },
  {
   "cell_type": "code",
   "execution_count": null,
   "metadata": {},
   "outputs": [],
   "source": [
    "(* Utiliser la cellule pour exécuter quelques appels et vérifier les résultats obtenus *)"
   ]
  },
  {
   "cell_type": "markdown",
   "metadata": {
    "deletable": false,
    "editable": false,
    "nbgrader": {
     "cell_type": "markdown",
     "checksum": "6d48ae9bf8f196d776542f55eada8ee3",
     "grade": false,
     "grade_id": "cell-fd1792b032897ec5",
     "locked": true,
     "schema_version": 3,
     "solution": false,
     "task": false
    }
   },
   "source": [
    "**Tests automatiques**  "
   ]
  },
  {
   "cell_type": "code",
   "execution_count": null,
   "metadata": {
    "deletable": false,
    "editable": false,
    "nbgrader": {
     "cell_type": "code",
     "checksum": "dfa3f8a5add867bdb62296628601596c",
     "grade": true,
     "grade_id": "cell-7b4bf69db60592ca",
     "locked": true,
     "points": 1,
     "schema_version": 3,
     "solution": false,
     "task": false
    }
   },
   "outputs": [],
   "source": [
    "let () = Test.est_strict est_strict    "
   ]
  },
  {
   "cell_type": "markdown",
   "metadata": {
    "deletable": false,
    "editable": false,
    "nbgrader": {
     "cell_type": "markdown",
     "checksum": "08f128f2bab320dc60eaea704d082e25",
     "grade": false,
     "grade_id": "cell-f3bac230ed0d89ba",
     "locked": true,
     "schema_version": 3,
     "solution": false,
     "task": false
    }
   },
   "source": [
    "<font size=\"5\">👩🏻‍💻</font>  Écrire une fonction `nb_noeuds : 'a arbre -> int` prenant en argument un arbre et renvoyant le nombre total de nœuds de l'arbre.\n",
    "\n",
    "*Remarque : Les feuilles sont aussi des nœuds*."
   ]
  },
  {
   "cell_type": "code",
   "execution_count": null,
   "metadata": {
    "deletable": false,
    "nbgrader": {
     "cell_type": "code",
     "checksum": "ccd23500038a8390931b7947a67be2ca",
     "grade": false,
     "grade_id": "cell-3b2c7c74425759dd",
     "locked": false,
     "schema_version": 3,
     "solution": true,
     "task": false
    }
   },
   "outputs": [],
   "source": [
    "(*À remplacer par votre code*)\n",
    "failwith \"Code manquant\""
   ]
  },
  {
   "cell_type": "markdown",
   "metadata": {
    "deletable": false,
    "editable": false,
    "nbgrader": {
     "cell_type": "markdown",
     "checksum": "076079d45d36c164b301e5244992e298",
     "grade": false,
     "grade_id": "cell-0ef77df5b703f90c",
     "locked": true,
     "schema_version": 3,
     "solution": false,
     "task": false
    }
   },
   "source": [
    "**Tests personnels**  "
   ]
  },
  {
   "cell_type": "code",
   "execution_count": null,
   "metadata": {},
   "outputs": [],
   "source": [
    "(* Utiliser la cellule pour exécuter quelques appels et vérifier les résultats obtenus *)"
   ]
  },
  {
   "cell_type": "markdown",
   "metadata": {
    "deletable": false,
    "editable": false,
    "nbgrader": {
     "cell_type": "markdown",
     "checksum": "23c4516b22fe5902a5116e2cd10b6de3",
     "grade": false,
     "grade_id": "cell-8e7abeeba434ec47",
     "locked": true,
     "schema_version": 3,
     "solution": false,
     "task": false
    }
   },
   "source": [
    "**Tests automatiques**  "
   ]
  },
  {
   "cell_type": "code",
   "execution_count": null,
   "metadata": {
    "deletable": false,
    "editable": false,
    "nbgrader": {
     "cell_type": "code",
     "checksum": "ed93f5c8c589348b9fddd7e985e0a880",
     "grade": true,
     "grade_id": "cell-46fc639d28028f7b",
     "locked": true,
     "points": 1,
     "schema_version": 3,
     "solution": false,
     "task": false
    }
   },
   "outputs": [],
   "source": [
    "(* Exécutez cette cellule pour tester votre fonction *)\n",
    "let () = Test.nb_noeuds nb_noeuds"
   ]
  },
  {
   "cell_type": "markdown",
   "metadata": {
    "deletable": false,
    "editable": false,
    "nbgrader": {
     "cell_type": "markdown",
     "checksum": "b5b8d1248478a59b23f8209902c5caad",
     "grade": false,
     "grade_id": "cell-0df133b24ea0c8a9",
     "locked": true,
     "schema_version": 3,
     "solution": false,
     "task": false
    }
   },
   "source": [
    "<font size=\"5\">👨‍💻 </font>  Écrire une fonction `nb_feuilles : 'a arbre -> int` prenant en argument un arbre et renvoyant le nombre de feuilles de l'arbre."
   ]
  },
  {
   "cell_type": "code",
   "execution_count": null,
   "metadata": {
    "deletable": false,
    "nbgrader": {
     "cell_type": "code",
     "checksum": "f64ff28be562c68c156b343300182d5a",
     "grade": false,
     "grade_id": "cell-b260be159dfd5344",
     "locked": false,
     "schema_version": 3,
     "solution": true,
     "task": false
    }
   },
   "outputs": [],
   "source": [
    "(*À remplacer par votre code*)\n",
    "failwith \"Code manquant\""
   ]
  },
  {
   "cell_type": "markdown",
   "metadata": {
    "deletable": false,
    "editable": false,
    "nbgrader": {
     "cell_type": "markdown",
     "checksum": "fee3e5b07a40c7075361ef7437629281",
     "grade": false,
     "grade_id": "cell-e833e24cd39b99a0",
     "locked": true,
     "schema_version": 3,
     "solution": false,
     "task": false
    }
   },
   "source": [
    "**Tests personnels**  "
   ]
  },
  {
   "cell_type": "code",
   "execution_count": null,
   "metadata": {},
   "outputs": [],
   "source": [
    "(* Utiliser la cellule pour exécuter quelques appels et vérifier les résultats obtenus *)"
   ]
  },
  {
   "cell_type": "markdown",
   "metadata": {
    "deletable": false,
    "editable": false,
    "nbgrader": {
     "cell_type": "markdown",
     "checksum": "eecf387bac0f153275adc6d8b596a4ee",
     "grade": false,
     "grade_id": "cell-7cd646116ca1fb80",
     "locked": true,
     "schema_version": 3,
     "solution": false,
     "task": false
    }
   },
   "source": [
    "**Tests automatiques**  "
   ]
  },
  {
   "cell_type": "code",
   "execution_count": null,
   "metadata": {
    "deletable": false,
    "editable": false,
    "nbgrader": {
     "cell_type": "code",
     "checksum": "a9820fb3f12e6c96c89a0877a06f48ef",
     "grade": true,
     "grade_id": "cell-0a040a3658233efb",
     "locked": true,
     "points": 1,
     "schema_version": 3,
     "solution": false,
     "task": false
    }
   },
   "outputs": [],
   "source": [
    "(* Exécutez cette cellule pour tester votre fonction *)\n",
    "let () = Test.nb_feuilles nb_feuilles"
   ]
  },
  {
   "cell_type": "markdown",
   "metadata": {
    "deletable": false,
    "editable": false,
    "nbgrader": {
     "cell_type": "markdown",
     "checksum": "7f94cee155017e89d794c4e880c9f2d4",
     "grade": false,
     "grade_id": "cell-1b077fac16817990",
     "locked": true,
     "schema_version": 3,
     "solution": false,
     "task": false
    }
   },
   "source": [
    "<font size=\"5\">👨🏿‍💻 </font>  Écrire une fonction `hauteur : 'a arbre -> int`  prenant en argument un arbre et renvoyant sa hauteur.  \n",
    "Par convention, on pourra considérer que la hauteur de l'arbre vide est $-1$."
   ]
  },
  {
   "cell_type": "code",
   "execution_count": null,
   "metadata": {
    "deletable": false,
    "nbgrader": {
     "cell_type": "code",
     "checksum": "f64d73045c38a0f88518cbe9152d97bf",
     "grade": false,
     "grade_id": "cell-e9c4bc366bbcd946",
     "locked": false,
     "schema_version": 3,
     "solution": true,
     "task": false
    }
   },
   "outputs": [],
   "source": [
    "(*À remplacer par votre code*)\n",
    "failwith \"Code manquant\""
   ]
  },
  {
   "cell_type": "markdown",
   "metadata": {
    "deletable": false,
    "editable": false,
    "nbgrader": {
     "cell_type": "markdown",
     "checksum": "5f78f201a5ee8e15fbc0a90b1e8a80c1",
     "grade": false,
     "grade_id": "cell-36b09a5c54f132bd",
     "locked": true,
     "schema_version": 3,
     "solution": false,
     "task": false
    }
   },
   "source": [
    "**Tests personnels**  "
   ]
  },
  {
   "cell_type": "code",
   "execution_count": null,
   "metadata": {},
   "outputs": [],
   "source": [
    "(* Utiliser la cellule pour exécuter quelques appels et vérifier les résultats obtenus *)"
   ]
  },
  {
   "cell_type": "markdown",
   "metadata": {
    "deletable": false,
    "editable": false,
    "nbgrader": {
     "cell_type": "markdown",
     "checksum": "8182303b650b5a02bc1b9c345309de6f",
     "grade": false,
     "grade_id": "cell-ff49fef9e1c960f8",
     "locked": true,
     "schema_version": 3,
     "solution": false,
     "task": false
    }
   },
   "source": [
    "**Tests automatiques**  "
   ]
  },
  {
   "cell_type": "code",
   "execution_count": null,
   "metadata": {
    "deletable": false,
    "editable": false,
    "nbgrader": {
     "cell_type": "code",
     "checksum": "5e8f236eaf8d033cb80e17afa9529a19",
     "grade": true,
     "grade_id": "cell-1a02ece8fd9b39bd",
     "locked": true,
     "points": 1,
     "schema_version": 3,
     "solution": false,
     "task": false
    }
   },
   "outputs": [],
   "source": [
    "(* Exécutez cette cellule pour tester votre fonction *)\n",
    "let () = Test.hauteur hauteur"
   ]
  },
  {
   "cell_type": "markdown",
   "metadata": {
    "deletable": false,
    "editable": false,
    "nbgrader": {
     "cell_type": "markdown",
     "checksum": "9f1d563bfe939089109846bef33659b6",
     "grade": false,
     "grade_id": "cell-3a1648c5421b9d35",
     "locked": true,
     "schema_version": 3,
     "solution": false,
     "task": false
    }
   },
   "source": [
    "<font size=\"5\">👩🏼‍💻</font>  Écrire une fonction `recherche : 'a -> 'a arbre -> bool`  prenant en argument un élément et un arbre et renvoyant `true` si l'élément est présent dans l'arbre, `false` sinon."
   ]
  },
  {
   "cell_type": "code",
   "execution_count": null,
   "metadata": {
    "deletable": false,
    "nbgrader": {
     "cell_type": "code",
     "checksum": "3efdd4e66f73104f33663af8713938a0",
     "grade": false,
     "grade_id": "cell-aa614433e53a8588",
     "locked": false,
     "schema_version": 3,
     "solution": true,
     "task": false
    }
   },
   "outputs": [],
   "source": [
    "(*À remplacer par votre code*)\n",
    "failwith \"Code manquant\""
   ]
  },
  {
   "cell_type": "markdown",
   "metadata": {
    "deletable": false,
    "editable": false,
    "nbgrader": {
     "cell_type": "markdown",
     "checksum": "250a5af439f758f0f087b16565e5bee0",
     "grade": false,
     "grade_id": "cell-9988adce858763bc",
     "locked": true,
     "schema_version": 3,
     "solution": false,
     "task": false
    }
   },
   "source": [
    "**Tests personnels**  "
   ]
  },
  {
   "cell_type": "code",
   "execution_count": null,
   "metadata": {},
   "outputs": [],
   "source": [
    "(* Utiliser la cellule pour exécuter quelques appels et vérifier les résultats obtenus *)"
   ]
  },
  {
   "cell_type": "markdown",
   "metadata": {
    "deletable": false,
    "editable": false,
    "nbgrader": {
     "cell_type": "markdown",
     "checksum": "f6e0b8d60032cce7ee0352877f784338",
     "grade": false,
     "grade_id": "cell-1ceed8199fd18de4",
     "locked": true,
     "schema_version": 3,
     "solution": false,
     "task": false
    }
   },
   "source": [
    "**Tests automatiques**  "
   ]
  },
  {
   "cell_type": "code",
   "execution_count": null,
   "metadata": {
    "deletable": false,
    "editable": false,
    "nbgrader": {
     "cell_type": "code",
     "checksum": "1c3b8aed979887930045ab326e3d8a5a",
     "grade": true,
     "grade_id": "cell-129e87cf3afc6dc6",
     "locked": true,
     "points": 1,
     "schema_version": 3,
     "solution": false,
     "task": false
    }
   },
   "outputs": [],
   "source": [
    "(* Exécutez cette cellule pour tester votre fonction *)\n",
    "let () = Test.recherche recherche"
   ]
  },
  {
   "cell_type": "markdown",
   "metadata": {
    "deletable": false,
    "editable": false,
    "nbgrader": {
     "cell_type": "markdown",
     "checksum": "16fe7f1153f5d51124ee4565005de923",
     "grade": false,
     "grade_id": "cell-9fd3429da403f93a",
     "locked": true,
     "schema_version": 3,
     "solution": false,
     "task": false
    }
   },
   "source": [
    "## Quelques fonctions sur des arbres étiquetés par des entiers\n",
    "On considère ici des arbres dont les étiquettes sont de type  `int`.\n",
    "\n",
    "<font size=\"5\">👨🏽‍💻</font>  Écrire une fonction `maxi : 'a arbre -> 'a`  prenant en argument un arbre et renvoyant le maximum de ses étiquettes.\n",
    "\n",
    "On pourra utiliser la fonction `max : 'a -> 'a -> 'a` qui prend deux arguments et renvoie le plus grand des deux."
   ]
  },
  {
   "cell_type": "code",
   "execution_count": null,
   "metadata": {
    "deletable": false,
    "nbgrader": {
     "cell_type": "code",
     "checksum": "361b3ccc4dfd69810909a4b7faa23b82",
     "grade": false,
     "grade_id": "cell-a952419517144ff4",
     "locked": false,
     "schema_version": 3,
     "solution": true,
     "task": false
    }
   },
   "outputs": [],
   "source": [
    "(*À remplacer par votre code*)\n",
    "failwith \"Code manquant\""
   ]
  },
  {
   "cell_type": "markdown",
   "metadata": {
    "deletable": false,
    "editable": false,
    "nbgrader": {
     "cell_type": "markdown",
     "checksum": "b5b271370c4161c33901856fc48d1bf6",
     "grade": false,
     "grade_id": "cell-12c6296d4c773760",
     "locked": true,
     "schema_version": 3,
     "solution": false,
     "task": false
    }
   },
   "source": [
    "**Tests personnels**  "
   ]
  },
  {
   "cell_type": "code",
   "execution_count": null,
   "metadata": {},
   "outputs": [],
   "source": [
    "(* Utiliser la cellule pour exécuter quelques appels et vérifier les résultats obtenus *)"
   ]
  },
  {
   "cell_type": "markdown",
   "metadata": {
    "deletable": false,
    "editable": false,
    "nbgrader": {
     "cell_type": "markdown",
     "checksum": "81e05b579e5affcd5985b8169f0a2b29",
     "grade": false,
     "grade_id": "cell-28c8bdaf6429c410",
     "locked": true,
     "schema_version": 3,
     "solution": false,
     "task": false
    }
   },
   "source": [
    "**Tests automatiques**  "
   ]
  },
  {
   "cell_type": "code",
   "execution_count": null,
   "metadata": {
    "deletable": false,
    "editable": false,
    "nbgrader": {
     "cell_type": "code",
     "checksum": "e9d3c229800b742514e9079518e207f8",
     "grade": true,
     "grade_id": "cell-26e7d1445ed3558c",
     "locked": true,
     "points": 0,
     "schema_version": 3,
     "solution": false,
     "task": false
    }
   },
   "outputs": [],
   "source": [
    "(* Exécutez cette cellule pour tester votre fonction *)\n",
    "let () = Test.maxi maxi"
   ]
  },
  {
   "cell_type": "markdown",
   "metadata": {
    "deletable": false,
    "editable": false,
    "nbgrader": {
     "cell_type": "markdown",
     "checksum": "b0f1e243b6f20374f1b5007fef6ff996",
     "grade": false,
     "grade_id": "cell-4fb7e549f10d2f1b",
     "locked": true,
     "schema_version": 3,
     "solution": false,
     "task": false
    }
   },
   "source": [
    "<font size=\"5\">👩‍💻</font>  Écrire une fonction `somme : int arbre -> int`  prenant en argument un arbre et renvoyant la somme de ses étiquettes."
   ]
  },
  {
   "cell_type": "code",
   "execution_count": null,
   "metadata": {
    "deletable": false,
    "nbgrader": {
     "cell_type": "code",
     "checksum": "48f94e4d11cc6c787d454e7832a0cecc",
     "grade": false,
     "grade_id": "cell-15ad23600a76e6d0",
     "locked": false,
     "schema_version": 3,
     "solution": true,
     "task": false
    }
   },
   "outputs": [],
   "source": [
    "(*À remplacer par votre code*)\n",
    "failwith \"Code manquant\""
   ]
  },
  {
   "cell_type": "code",
   "execution_count": null,
   "metadata": {
    "deletable": false,
    "editable": false,
    "nbgrader": {
     "cell_type": "code",
     "checksum": "edee1a883ee2f8cbdc7fda9cebc00d6c",
     "grade": true,
     "grade_id": "cell-81298e71b59ad693",
     "locked": true,
     "points": 1,
     "schema_version": 3,
     "solution": false,
     "task": false
    }
   },
   "outputs": [],
   "source": [
    "(* Exécutez cette cellule pour tester votre fonction *)\n",
    "let () = Test.somme somme"
   ]
  },
  {
   "cell_type": "markdown",
   "metadata": {
    "deletable": false,
    "editable": false,
    "nbgrader": {
     "cell_type": "markdown",
     "checksum": "fbdb6de158467108bee6f8a7d5dacb10",
     "grade": false,
     "grade_id": "cell-bcc146c5d7126696",
     "locked": true,
     "schema_version": 3,
     "solution": false,
     "task": false
    }
   },
   "source": [
    "<font size=\"5\">👨🏼‍💻</font>   On considère pour chaque branche de l'arbre (i.e un chemin de la racine à une feuille) la somme des étiquettes de ses nœuds. Écrire une fonction `somme_max_branche : int arbre -> int` donnant la somme maximale des branches d'un arbre."
   ]
  },
  {
   "cell_type": "code",
   "execution_count": null,
   "metadata": {
    "deletable": false,
    "nbgrader": {
     "cell_type": "code",
     "checksum": "e3a7d9140de42d75dbd6475afcc3ef98",
     "grade": false,
     "grade_id": "cell-07fff140458c1374",
     "locked": false,
     "schema_version": 3,
     "solution": true,
     "task": false
    }
   },
   "outputs": [],
   "source": [
    "(*À remplacer par votre code*)\n",
    "failwith \"Code manquant\""
   ]
  },
  {
   "cell_type": "markdown",
   "metadata": {
    "deletable": false,
    "editable": false,
    "nbgrader": {
     "cell_type": "markdown",
     "checksum": "577a95315f3023a86300b90c4813387b",
     "grade": false,
     "grade_id": "cell-77b01b4f542cd821",
     "locked": true,
     "schema_version": 3,
     "solution": false,
     "task": false
    }
   },
   "source": [
    "**Tests personnels**  "
   ]
  },
  {
   "cell_type": "code",
   "execution_count": null,
   "metadata": {},
   "outputs": [],
   "source": [
    "(* Utiliser la cellule pour exécuter quelques appels et vérifier les résultats obtenus *)"
   ]
  },
  {
   "cell_type": "markdown",
   "metadata": {
    "deletable": false,
    "editable": false,
    "nbgrader": {
     "cell_type": "markdown",
     "checksum": "2be253f7f72c619964ed5f6968d468d6",
     "grade": false,
     "grade_id": "cell-c27915106e6d6385",
     "locked": true,
     "schema_version": 3,
     "solution": false,
     "task": false
    }
   },
   "source": [
    "**Tests automatiques**  "
   ]
  },
  {
   "cell_type": "code",
   "execution_count": null,
   "metadata": {
    "deletable": false,
    "editable": false,
    "nbgrader": {
     "cell_type": "code",
     "checksum": "e261370413a9ce68abf0663e2ab7f72f",
     "grade": true,
     "grade_id": "cell-7c66dba3c77f2126",
     "locked": true,
     "points": 1,
     "schema_version": 3,
     "solution": false,
     "task": false
    }
   },
   "outputs": [],
   "source": [
    "(* Exécutez cette cellule pour tester votre fonction *)\n",
    "let () = Test.somme_max_branche somme_max_branche"
   ]
  },
  {
   "cell_type": "markdown",
   "metadata": {
    "deletable": false,
    "editable": false,
    "nbgrader": {
     "cell_type": "markdown",
     "checksum": "684e76044e2b8113b5724a26306b6c63",
     "grade": false,
     "grade_id": "cell-605c36b344b9866b",
     "locked": true,
     "schema_version": 3,
     "solution": false,
     "task": false
    }
   },
   "source": [
    "## Diamètre d'un arbre\n",
    "Étant donné un arbre binaire $\\mathcal{A}$, on appelle *diamètre* de $\\mathcal{A}$ la longueur d'un plus long chemin dans $\\mathcal{A}$.\n",
    "\n",
    "<font size=\"5\">👩🏾‍💻</font>  Quel est la longueur d'un plus long chemin passant par la racine ?"
   ]
  },
  {
   "cell_type": "markdown",
   "metadata": {
    "deletable": false,
    "nbgrader": {
     "cell_type": "markdown",
     "checksum": "4817b0158056c7e260e3ce3fc252291f",
     "grade": true,
     "grade_id": "cell-0b5e64655b7d8972",
     "locked": false,
     "points": 0,
     "schema_version": 3,
     "solution": true,
     "task": false
    }
   },
   "source": [
    "✍️ *Votre réponse*"
   ]
  },
  {
   "cell_type": "markdown",
   "metadata": {
    "deletable": false,
    "editable": false,
    "nbgrader": {
     "cell_type": "markdown",
     "checksum": "759f299522d6a5d2c5932f31f76a1bc6",
     "grade": false,
     "grade_id": "cell-6af2bc318be462d1",
     "locked": true,
     "schema_version": 3,
     "solution": false,
     "task": false
    }
   },
   "source": [
    "<font size=\"5\">👨‍💻</font>  Écrire une fonction `diametre : 'a arbre -> int` calculant le diamètre d'un arbre binaire ; on distinguera trois cas."
   ]
  },
  {
   "cell_type": "code",
   "execution_count": null,
   "metadata": {
    "deletable": false,
    "nbgrader": {
     "cell_type": "code",
     "checksum": "b7c03bc95e7c7c439b9123d6669eb812",
     "grade": false,
     "grade_id": "cell-e7946a3a483471f7",
     "locked": false,
     "schema_version": 3,
     "solution": true,
     "task": false
    }
   },
   "outputs": [],
   "source": [
    "(*À remplacer par votre code*)\n",
    "failwith \"Code manquant\""
   ]
  },
  {
   "cell_type": "markdown",
   "metadata": {
    "deletable": false,
    "editable": false,
    "nbgrader": {
     "cell_type": "markdown",
     "checksum": "57cce79a4ad28b87e9d33f4525c23bda",
     "grade": false,
     "grade_id": "cell-1cd6cd525f847410",
     "locked": true,
     "schema_version": 3,
     "solution": false,
     "task": false
    }
   },
   "source": [
    "**Tests personnels**  "
   ]
  },
  {
   "cell_type": "code",
   "execution_count": null,
   "metadata": {},
   "outputs": [],
   "source": [
    "(* Utiliser la cellule pour exécuter quelques appels et vérifier les résultats obtenus *)"
   ]
  },
  {
   "cell_type": "markdown",
   "metadata": {
    "deletable": false,
    "editable": false,
    "nbgrader": {
     "cell_type": "markdown",
     "checksum": "1e1500b49ffede70c1b637d5b335939b",
     "grade": false,
     "grade_id": "cell-6e7a15fe6e60eda8",
     "locked": true,
     "schema_version": 3,
     "solution": false,
     "task": false
    }
   },
   "source": [
    "**Tests automatiques**  "
   ]
  },
  {
   "cell_type": "code",
   "execution_count": null,
   "metadata": {
    "deletable": false,
    "editable": false,
    "nbgrader": {
     "cell_type": "code",
     "checksum": "12d6ea8d0537f332be1a725f13e2068d",
     "grade": true,
     "grade_id": "cell-da4d8c3463bda053",
     "locked": true,
     "points": 1,
     "schema_version": 3,
     "solution": false,
     "task": false
    }
   },
   "outputs": [],
   "source": [
    "(* Exécutez cette cellule pour tester votre fonction *)\n",
    "let () = Test.diametre diametre"
   ]
  }
 ],
 "metadata": {
  "celltoolbar": "Éditer les Méta-Données",
  "kernelspec": {
   "display_name": "OCaml default",
   "language": "OCaml",
   "name": "ocaml-jupyter-default"
  },
  "language_info": {
   "codemirror_mode": "text/x-ocaml",
   "file_extension": ".ml",
   "mimetype": "text/x-ocaml",
   "name": "OCaml",
   "nbconverter_exporter": null,
   "pygments_lexer": "OCaml",
   "version": "4.14.2"
  },
  "latex_envs": {
   "LaTeX_envs_menu_present": true,
   "autoclose": false,
   "autocomplete": true,
   "bibliofile": "biblio.bib",
   "cite_by": "apalike",
   "current_citInitial": 1,
   "eqLabelWithNumbers": true,
   "eqNumInitial": 1,
   "hotkeys": {
    "equation": "Ctrl-E",
    "itemize": "Ctrl-I"
   },
   "labels_anchors": false,
   "latex_user_defs": false,
   "report_style_numbering": true,
   "user_envs_cfg": true
  }
 },
 "nbformat": 4,
 "nbformat_minor": 4
}
