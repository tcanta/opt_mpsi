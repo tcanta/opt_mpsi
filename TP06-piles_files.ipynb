{
 "cells": [
  {
   "cell_type": "markdown",
   "metadata": {
    "deletable": false,
    "editable": false,
    "nbgrader": {
     "cell_type": "markdown",
     "checksum": "c96b6ecfb55aa096cc15d15fb63c630e",
     "grade": false,
     "grade_id": "cell-0720a76fc7e268e8",
     "locked": true,
     "schema_version": 3,
     "solution": false,
     "task": false
    }
   },
   "source": [
    "La cellule suivante sert à charger les fonctions nécessaires à l'exécution des tests pour les fonctions du TP. N'oubliez donc pas de l'exécuter."
   ]
  },
  {
   "cell_type": "code",
   "execution_count": null,
   "metadata": {
    "deletable": false,
    "editable": false,
    "nbgrader": {
     "cell_type": "code",
     "checksum": "32590644e7c55e4c37ee16a9237904d2",
     "grade": false,
     "grade_id": "cell-075902da586ad42d",
     "locked": true,
     "schema_version": 3,
     "solution": false,
     "task": false
    }
   },
   "outputs": [],
   "source": [
    "module Utils = struct\n",
    "  let fonction_test nom b =\n",
    "    let () = print_endline (Printf.sprintf \"%s : %s\" nom (if b then \"\\027[1m\\027[32mOK\\027[0m\" else \"\\027[1m\\027[31méchec\\027[0m\"))\n",
    "    in b\n",
    "\n",
    "  let rec test_liste comp pretty_print f lst  =    \n",
    "    let rec loop lst ok total =\n",
    "      match lst with\n",
    "      | [] -> ok, total\n",
    "      | (t,tt)::q ->\n",
    "        loop q (ok + if fonction_test (pretty_print t) (comp (f t) tt) then 1 else 0) (total + 1) \n",
    "    in     \n",
    "    let ok, total = loop lst 0 0 in\n",
    "    print_endline (Printf.sprintf \"%i/%i tests réussis\" ok total) \n",
    "end \n",
    "\n",
    "module Test = struct  \n",
    "  let bien_parenthesee f =\n",
    "    let pretty_print s = Printf.sprintf \"%s\" s in\n",
    "    let tests = [(\"(1+(2+x)∗(5+x))/6\", true);(\"([()()]())\", true);(\"([()[)])()\",false);(\"[(])\",false);(\"([()[]]()\",false);(\"()([()()])]\",false)] in\n",
    "    Utils.test_liste (=) pretty_print f tests\n",
    "\n",
    "end"
   ]
  },
  {
   "cell_type": "markdown",
   "metadata": {
    "deletable": false,
    "editable": false,
    "nbgrader": {
     "cell_type": "markdown",
     "checksum": "a17e0e7cda7195dae485d65abf0b2318",
     "grade": false,
     "grade_id": "cell-75776c79a46733c3",
     "locked": true,
     "schema_version": 3,
     "solution": false,
     "task": false
    }
   },
   "source": [
    "# Autour de la structure de pile"
   ]
  },
  {
   "cell_type": "markdown",
   "metadata": {
    "deletable": false,
    "editable": false,
    "nbgrader": {
     "cell_type": "markdown",
     "checksum": "de6c2a0a12a9dc10d7f6ff9534d892d4",
     "grade": false,
     "grade_id": "cell-7afd8ab59f45fe37",
     "locked": true,
     "schema_version": 3,
     "solution": false,
     "task": false
    }
   },
   "source": [
    "## Expression bien parenthésées"
   ]
  },
  {
   "cell_type": "markdown",
   "metadata": {
    "deletable": false,
    "editable": false,
    "nbgrader": {
     "cell_type": "markdown",
     "checksum": "50e9a43249ec633313e94cc331cf093f",
     "grade": false,
     "grade_id": "cell-066822e9e0bbc925",
     "locked": true,
     "schema_version": 3,
     "solution": false,
     "task": false
    }
   },
   "source": [
    "Une expression arithmétique est bien parenthésée lorsque\n",
    "- le nombre de parenthèses ouvrantes est égal au nombre de parenthèses fermantes,\n",
    "- à toute parenthèse fermante correspond une parenthèse ouvrante qui la précède.\n",
    "\n",
    "Par exemple, $(1+(2+x)*5)/6$ est bien parenthésée, mais $5*((2*x+1)*3 + 1$ ne l'est pas (car comporte plus de parenthèses ouvrantes que de parenthèses fermantes), et $(x+2))*(x-1$ non plus (car la seconde parenthèse fermante ne correspond à aucune parenthèse ouvrante la précédant).\n",
    "\n",
    "Il est possible de vérifier qu'une expression est bien parenthésée en utilisant une pile. En parcourant l'expression de gauche à droite: \n",
    "- à chaque parenthèse ouvrante, on empile le caractère correspondant,\n",
    "- à chaque parenthèse fermante on dépile et on vérifie le type de parenthèse (s'il y en a plusieurs).\n",
    "\n",
    "L'expression est bien parenthésée si, avec une pile initialemant vide, la pile n'est jamais vide lorsqu'on tente de dépiler, et si la pile est bien vide en fin de parcours.\n",
    "\n",
    "On travaillera avec deux types de parenthèses : `()` et `[]`.\n",
    "\n",
    "On pourra utiliser les fonctions suivantes sur les chaînes de caractères :\n",
    "- `String.length : string -> int` ; `String.length s` est la longueur (nombre de caractères) de la chaîne `s`.\n",
    "- `String.get : string -> int -> char` ; `String.get s i` est le caractère d'indice `i` dans `s`. On peut aussi écrire `s.[i]`. Le premier caractère de la chaîne a pour indice $0$.\n",
    "\n",
    "On pourra utiliser une implémentation vue en cours ou le module `Stack` et les fonctions `Stack.create`, `Stack.is_empty`, `Stack.pop` et `Stack.push` pour créer et manipuler la pile."
   ]
  },
  {
   "cell_type": "markdown",
   "metadata": {
    "deletable": false,
    "editable": false,
    "nbgrader": {
     "cell_type": "markdown",
     "checksum": "baa5ac74423ceb124066cd954922c3ab",
     "grade": false,
     "grade_id": "cell-83e992ba4c53cd36",
     "locked": true,
     "schema_version": 3,
     "solution": false,
     "task": false
    }
   },
   "source": [
    "<font size=\"5\">👩🏼‍💻</font> Écrire une fonction `bien_parenthesee : string -> bool` qui renvoie `true` si la chaîne de caractères en paramètre est bien parenthésée, `false` sinon."
   ]
  },
  {
   "cell_type": "code",
   "execution_count": null,
   "metadata": {
    "deletable": false,
    "nbgrader": {
     "cell_type": "code",
     "checksum": "dab7da825d327898e8680b358180eaaa",
     "grade": false,
     "grade_id": "cell-240d928075780ee6",
     "locked": false,
     "schema_version": 3,
     "solution": true,
     "task": false
    }
   },
   "outputs": [],
   "source": [
    "(*À remplacer par votre code*)\n",
    "failwith \"Code manquant\""
   ]
  },
  {
   "cell_type": "markdown",
   "metadata": {
    "deletable": false,
    "editable": false,
    "nbgrader": {
     "cell_type": "markdown",
     "checksum": "88a71459b0b7466af018e34c40a9199c",
     "grade": false,
     "grade_id": "cell-e0e25f63b0626f9d",
     "locked": true,
     "schema_version": 3,
     "solution": false,
     "task": false
    }
   },
   "source": [
    "**Tests personnels**"
   ]
  },
  {
   "cell_type": "code",
   "execution_count": null,
   "metadata": {},
   "outputs": [],
   "source": [
    "(* Utiliser la cellule pour exécuter quelques appels et vérifier les résultats obtenus *)"
   ]
  },
  {
   "cell_type": "markdown",
   "metadata": {},
   "source": [
    "**Tests automatiques**"
   ]
  },
  {
   "cell_type": "code",
   "execution_count": null,
   "metadata": {
    "deletable": false,
    "editable": false,
    "nbgrader": {
     "cell_type": "code",
     "checksum": "393f3739f90dffce93f201ae73b3327d",
     "grade": true,
     "grade_id": "cell-d46f4d0ae3413f7d",
     "locked": true,
     "points": 1,
     "schema_version": 3,
     "solution": false,
     "task": false
    }
   },
   "outputs": [],
   "source": [
    "(* Exécutez cette cellule pour tester votre réponse *)\n",
    "let () = Test.bien_parenthesee bien_parenthesee;;"
   ]
  },
  {
   "cell_type": "markdown",
   "metadata": {
    "deletable": false,
    "editable": false,
    "nbgrader": {
     "cell_type": "markdown",
     "checksum": "5f611399a30db8d633f1250841f0b2cc",
     "grade": false,
     "grade_id": "cell-3d5b48105826c9be",
     "locked": true,
     "schema_version": 3,
     "solution": false,
     "task": false
    }
   },
   "source": [
    "# Autour de la structure de files"
   ]
  },
  {
   "cell_type": "markdown",
   "metadata": {
    "deletable": false,
    "editable": false,
    "nbgrader": {
     "cell_type": "markdown",
     "checksum": "755e80d3e0ca9694af0bd885fcabbd62",
     "grade": false,
     "grade_id": "cell-769443356116dba3",
     "locked": true,
     "schema_version": 3,
     "solution": false,
     "task": false
    }
   },
   "source": [
    "## Implémentation d'une file avec deux piles"
   ]
  },
  {
   "cell_type": "markdown",
   "metadata": {
    "deletable": false,
    "editable": false,
    "nbgrader": {
     "cell_type": "markdown",
     "checksum": "7b68c9de5bb80b1a6a9a87d0abc4a919",
     "grade": false,
     "grade_id": "cell-61716f83794064f8",
     "locked": true,
     "schema_version": 3,
     "solution": false,
     "task": false
    }
   },
   "source": [
    "On considère le type `file` suivant :"
   ]
  },
  {
   "cell_type": "code",
   "execution_count": null,
   "metadata": {
    "deletable": false,
    "editable": false,
    "nbgrader": {
     "cell_type": "code",
     "checksum": "3cf0a96d9c2da87d92d0c2b8f1d9bb50",
     "grade": false,
     "grade_id": "cell-6f39ad2ef48c48bf",
     "locked": true,
     "schema_version": 3,
     "solution": false,
     "task": false
    }
   },
   "outputs": [],
   "source": [
    "type 'a file = {\n",
    "    entree : 'a Stack.t;\n",
    "    sortie : 'a Stack.t\n",
    "  };;"
   ]
  },
  {
   "cell_type": "markdown",
   "metadata": {
    "deletable": false,
    "editable": false,
    "nbgrader": {
     "cell_type": "markdown",
     "checksum": "20f303c9127d852203cf650555486b04",
     "grade": false,
     "grade_id": "cell-8a7fa482d07671c6",
     "locked": true,
     "schema_version": 3,
     "solution": false,
     "task": false
    }
   },
   "source": [
    "L'ajout d'un élément se fera dans la pile `entree`, la suppression d'un élément dans la pile `sortie`.\n",
    "\n",
    "<font size=\"5\">👨‍💻</font> Écrire une fonction `creer_file : unit -> 'a file` qui renvoie une file vide."
   ]
  },
  {
   "cell_type": "code",
   "execution_count": null,
   "metadata": {
    "deletable": false,
    "nbgrader": {
     "cell_type": "code",
     "checksum": "4008f1b112ee752656b26767c26c7f9a",
     "grade": true,
     "grade_id": "cell-1d3aec7640971a76",
     "locked": false,
     "points": 1,
     "schema_version": 3,
     "solution": true,
     "task": false
    }
   },
   "outputs": [],
   "source": [
    "(*À remplacer par votre code*)\n",
    "failwith \"Code manquant\""
   ]
  },
  {
   "cell_type": "markdown",
   "metadata": {
    "deletable": false,
    "editable": false,
    "nbgrader": {
     "cell_type": "markdown",
     "checksum": "0607f19a7bf361675fb95ce9c0a2d987",
     "grade": false,
     "grade_id": "cell-1ab0c86bdb40fa35",
     "locked": true,
     "schema_version": 3,
     "solution": false,
     "task": false
    }
   },
   "source": [
    "<font size=\"5\">👩🏽‍💻</font> Écrire une fonction `est_vide : 'a file -> bool` qui renvoie `true` si la file est vide, `false` sinon."
   ]
  },
  {
   "cell_type": "code",
   "execution_count": null,
   "metadata": {
    "deletable": false,
    "nbgrader": {
     "cell_type": "code",
     "checksum": "df82370cd0b1a1ee6d6d17934c2450e4",
     "grade": true,
     "grade_id": "cell-3d84d7c626b38a76",
     "locked": false,
     "points": 1,
     "schema_version": 3,
     "solution": true,
     "task": false
    }
   },
   "outputs": [],
   "source": [
    "(*À remplacer par votre code*)\n",
    "failwith \"Code manquant\""
   ]
  },
  {
   "cell_type": "markdown",
   "metadata": {
    "deletable": false,
    "editable": false,
    "nbgrader": {
     "cell_type": "markdown",
     "checksum": "ecd99480357333096ed24fd6403f26db",
     "grade": false,
     "grade_id": "cell-9eabcf4c46ad4398",
     "locked": true,
     "schema_version": 3,
     "solution": false,
     "task": false
    }
   },
   "source": [
    "<font size=\"5\">👨🏾‍💻</font> Écrire une fonction `enfiler : 'a -> 'a file -> unit` qui ajoute un élément dans la file."
   ]
  },
  {
   "cell_type": "code",
   "execution_count": null,
   "metadata": {
    "deletable": false,
    "nbgrader": {
     "cell_type": "code",
     "checksum": "ce66d5a1f45bb017a8073ef7adb54f55",
     "grade": true,
     "grade_id": "cell-f8f46ceb85580886",
     "locked": false,
     "points": 1,
     "schema_version": 3,
     "solution": true,
     "task": false
    }
   },
   "outputs": [],
   "source": [
    "(*À remplacer par votre code*)\n",
    "failwith \"Code manquant\""
   ]
  },
  {
   "cell_type": "markdown",
   "metadata": {
    "deletable": false,
    "editable": false,
    "nbgrader": {
     "cell_type": "markdown",
     "checksum": "4f72a5ae9cadfd36474308cf482c2024",
     "grade": false,
     "grade_id": "cell-91e4720ab9279621",
     "locked": true,
     "schema_version": 3,
     "solution": false,
     "task": false
    }
   },
   "source": [
    "<font size=\"5\">👩🏻‍💻</font> Écrire une fonction `defiler : 'a file -> 'a` qui supprime et renvoie l'élément en début de file."
   ]
  },
  {
   "cell_type": "code",
   "execution_count": null,
   "metadata": {
    "deletable": false,
    "nbgrader": {
     "cell_type": "code",
     "checksum": "f23e0c360e4267f7f74d51945efba680",
     "grade": true,
     "grade_id": "cell-d998a19c057c46da",
     "locked": false,
     "points": 1,
     "schema_version": 3,
     "solution": true,
     "task": false
    }
   },
   "outputs": [],
   "source": [
    "(*À remplacer par votre code*)\n",
    "failwith \"Code manquant\""
   ]
  },
  {
   "cell_type": "markdown",
   "metadata": {
    "deletable": false,
    "editable": false,
    "nbgrader": {
     "cell_type": "markdown",
     "checksum": "cd3a912d0e4bff86e084242a4c88f25f",
     "grade": false,
     "grade_id": "cell-56b94d44a7c10603",
     "locked": true,
     "schema_version": 3,
     "solution": false,
     "task": false
    }
   },
   "source": [
    "<font size=\"5\">👨🏽‍💻</font> Tester les fonctions précédentes :\n",
    "- créer une file vide ;"
   ]
  },
  {
   "cell_type": "code",
   "execution_count": null,
   "metadata": {
    "deletable": false,
    "nbgrader": {
     "cell_type": "code",
     "checksum": "df9dbb86f76d6183c173aee67fabd891",
     "grade": true,
     "grade_id": "cell-5eb060eab43509b7c",
     "locked": false,
     "points": 0,
     "schema_version": 3,
     "solution": true,
     "task": false
    }
   },
   "outputs": [],
   "source": [
    "(*À remplacer par votre code*)\n",
    "failwith \"Code manquant\""
   ]
  },
  {
   "cell_type": "markdown",
   "metadata": {
    "deletable": false,
    "editable": false,
    "nbgrader": {
     "cell_type": "markdown",
     "checksum": "473bed788dad2a9006c151402b37bf42",
     "grade": false,
     "grade_id": "cell-6f5f4d5ea760fcd4",
     "locked": true,
     "schema_version": 3,
     "solution": false,
     "task": false
    }
   },
   "source": [
    "- lui ajouter les entiers de 1 à 5 ;"
   ]
  },
  {
   "cell_type": "code",
   "execution_count": null,
   "metadata": {
    "deletable": false,
    "nbgrader": {
     "cell_type": "code",
     "checksum": "ffb1aba1e1a5ce8b296e8d7039489d25",
     "grade": true,
     "grade_id": "cell-5eb060eab43509b7ca",
     "locked": false,
     "points": 0,
     "schema_version": 3,
     "solution": true,
     "task": false
    }
   },
   "outputs": [],
   "source": [
    "(*À remplacer par votre code*)\n",
    "failwith \"Code manquant\""
   ]
  },
  {
   "cell_type": "markdown",
   "metadata": {
    "deletable": false,
    "editable": false,
    "nbgrader": {
     "cell_type": "markdown",
     "checksum": "b1efe8e2dc93b309e22923d962414c95",
     "grade": false,
     "grade_id": "cell-f6589615daf67ce6",
     "locked": true,
     "schema_version": 3,
     "solution": false,
     "task": false
    }
   },
   "source": [
    "- supprimer et afficher 3 éléments de la file ;"
   ]
  },
  {
   "cell_type": "code",
   "execution_count": null,
   "metadata": {
    "deletable": false,
    "nbgrader": {
     "cell_type": "code",
     "checksum": "d113fa48a2e59bf0719ec7cbd44fc04a",
     "grade": true,
     "grade_id": "cell-5eb060eab43509b7cb",
     "locked": false,
     "points": 0,
     "schema_version": 3,
     "solution": true,
     "task": false
    }
   },
   "outputs": [],
   "source": [
    "(*À remplacer par votre code*)\n",
    "failwith \"Code manquant\""
   ]
  },
  {
   "cell_type": "markdown",
   "metadata": {
    "deletable": false,
    "editable": false,
    "nbgrader": {
     "cell_type": "markdown",
     "checksum": "e34b19795c0fd9dd1e92d14846cb2ac4",
     "grade": false,
     "grade_id": "cell-046537913a677521",
     "locked": true,
     "schema_version": 3,
     "solution": false,
     "task": false
    }
   },
   "source": [
    "- lui ajouter les entiers 6 et 7 ;"
   ]
  },
  {
   "cell_type": "code",
   "execution_count": null,
   "metadata": {
    "deletable": false,
    "nbgrader": {
     "cell_type": "code",
     "checksum": "f84291eaef6cf191d2fe89449d2b575b",
     "grade": true,
     "grade_id": "cell-5eb060eab43509b7cc",
     "locked": false,
     "points": 0,
     "schema_version": 3,
     "solution": true,
     "task": false
    }
   },
   "outputs": [],
   "source": [
    "(*À remplacer par votre code*)\n",
    "failwith \"Code manquant\""
   ]
  },
  {
   "cell_type": "markdown",
   "metadata": {
    "deletable": false,
    "editable": false,
    "nbgrader": {
     "cell_type": "markdown",
     "checksum": "cea837318cf5488f3732e6aaa10e0f68",
     "grade": false,
     "grade_id": "cell-7b81aa8db5e80b93",
     "locked": true,
     "schema_version": 3,
     "solution": false,
     "task": false
    }
   },
   "source": [
    "- vider la file en affichant ses éléments."
   ]
  },
  {
   "cell_type": "code",
   "execution_count": null,
   "metadata": {
    "deletable": false,
    "nbgrader": {
     "cell_type": "code",
     "checksum": "4e0ae879507c6fb3489d5b0ac5017c9a",
     "grade": true,
     "grade_id": "cell-a0568d43e4a09216",
     "locked": false,
     "points": 0,
     "schema_version": 3,
     "solution": true,
     "task": false
    }
   },
   "outputs": [],
   "source": [
    "(*À remplacer par votre code*)\n",
    "failwith \"Code manquant\""
   ]
  },
  {
   "cell_type": "markdown",
   "metadata": {
    "deletable": false,
    "editable": false,
    "nbgrader": {
     "cell_type": "markdown",
     "checksum": "083ff553360fe903a9c7c4708363e919",
     "grade": false,
     "grade_id": "cell-6d0af9dae71232e1",
     "locked": true,
     "schema_version": 3,
     "solution": false,
     "task": false
    }
   },
   "source": [
    "## Feu de forêt"
   ]
  },
  {
   "cell_type": "markdown",
   "metadata": {
    "deletable": false,
    "editable": false,
    "nbgrader": {
     "cell_type": "markdown",
     "checksum": "36e57e061141cd52a32f08686628a903",
     "grade": false,
     "grade_id": "cell-5bbd19e008d35f11",
     "locked": true,
     "schema_version": 3,
     "solution": false,
     "task": false
    }
   },
   "source": [
    "On considère un damier représentant une forêt partiellement en feu. Au départ, une seule case est en feu, puis le feu se propage. La probabilité $p$ que le feu se propage d'une case en feu aux cases voisines est constante.\n",
    "On considère que le damier est un carré de côté $400$ et que l'incendie naît au centre du carré."
   ]
  },
  {
   "cell_type": "markdown",
   "metadata": {
    "deletable": false,
    "editable": false,
    "nbgrader": {
     "cell_type": "markdown",
     "checksum": "5ee409090afaefc4dbe9d408773703dc",
     "grade": false,
     "grade_id": "cell-d3011cd5bb45d19d",
     "locked": true,
     "schema_version": 3,
     "solution": false,
     "task": false
    }
   },
   "source": [
    "L'algorithme de propagation utilise une structure de file."
   ]
  },
  {
   "cell_type": "markdown",
   "metadata": {
    "deletable": false,
    "editable": false,
    "nbgrader": {
     "cell_type": "markdown",
     "checksum": "3957a08977b180fb333c14a476fc2ced",
     "grade": false,
     "grade_id": "cell-07bb75b7fb246820",
     "locked": true,
     "schema_version": 3,
     "solution": false,
     "task": false
    }
   },
   "source": [
    "    Allumer  le centre du damier.\n",
    "    Insérer le centre dans la file des cases en attente (précédemment vide).\n",
    "    Tant que la file n'est pas vide,\n",
    "        extraire une case de la file.\n",
    "        Pour chacune des cases voisines,\n",
    "            Si la case n'est pas en feu,\n",
    "                tirer au sort la propagation avec la probabilité p,\n",
    "                Si le feu se propage,\n",
    "                    allumer la case\n",
    "                    l'ajouter à la file."
   ]
  },
  {
   "cell_type": "markdown",
   "metadata": {
    "deletable": false,
    "editable": false,
    "nbgrader": {
     "cell_type": "markdown",
     "checksum": "14376b0af28103567d3aa51cdded991f",
     "grade": false,
     "grade_id": "cell-9589ff716ce3a97c",
     "locked": true,
     "schema_version": 3,
     "solution": false,
     "task": false
    }
   },
   "source": [
    "On poura utiliser la fonction suivante :"
   ]
  },
  {
   "cell_type": "code",
   "execution_count": null,
   "metadata": {
    "deletable": false,
    "editable": false,
    "nbgrader": {
     "cell_type": "code",
     "checksum": "225fd6908c4c42f32082910db201388d",
     "grade": false,
     "grade_id": "cell-26a0f3c48f0a819a",
     "locked": true,
     "schema_version": 3,
     "solution": false,
     "task": false
    }
   },
   "outputs": [],
   "source": [
    "Random.self_init ();;\n",
    "(* Renvoie true avec une probabilité p, false avec une probabilité 1-p *)\n",
    "let random_bool p =\n",
    "  Random.float 1. < p\n",
    ";;"
   ]
  },
  {
   "cell_type": "markdown",
   "metadata": {
    "deletable": false,
    "editable": false,
    "nbgrader": {
     "cell_type": "markdown",
     "checksum": "d2e0a13b3acc8943d0de1ab888ee038d",
     "grade": false,
     "grade_id": "cell-8c5a75f632331497",
     "locked": true,
     "schema_version": 3,
     "solution": false,
     "task": false
    }
   },
   "source": [
    "<font size=\"5\">👩🏼‍💻</font>  Écrire une fonction `propagation : float -> bool`  qui prend en argument un nombre `p` compris entre 0 et 1, qui simule l'incendie et qui renvoie booléen valant `true` si un bord a été atteint, `false` sinon.\n",
    "\n",
    "On pourra commencer par créer une matrice de booléens dont le coefficient $(i,j)$ vaut `true` si le point de coordonnées $(i,j)$ a été atteint par l'incendie, `false` sinon.\n",
    "\n",
    "Pour la file, on pourra utiliser l'implémentation précédente, une implémentation vue en cours ou le module `Queue` et notamment les fonctions `Queue.create`, `Queue.add`, `Queue.take`, `Queue.is_empty`."
   ]
  },
  {
   "cell_type": "code",
   "execution_count": null,
   "metadata": {
    "deletable": false,
    "nbgrader": {
     "cell_type": "code",
     "checksum": "03d59bc8d8a3e57a1452fd63a6cd15ef",
     "grade": true,
     "grade_id": "cell-b0d31eee7d0d8795",
     "locked": false,
     "points": 1,
     "schema_version": 3,
     "solution": true,
     "task": false
    }
   },
   "outputs": [],
   "source": [
    "(*À remplacer par votre code*)\n",
    "failwith \"Code manquant\""
   ]
  },
  {
   "cell_type": "markdown",
   "metadata": {
    "deletable": false,
    "editable": false,
    "nbgrader": {
     "cell_type": "markdown",
     "checksum": "7fe6aee9b46f1aa5abe8eff2859d5c87",
     "grade": false,
     "grade_id": "cell-bdda75444bb6497b",
     "locked": true,
     "schema_version": 3,
     "solution": false,
     "task": false
    }
   },
   "source": [
    "<font size=\"5\">👩🏽‍💻</font> Déterminer expérimentalement la plus petite valeur de $p$ pour laquelle les chances de propagation du feu jusqu'aux bords semblent non négligeables."
   ]
  },
  {
   "cell_type": "code",
   "execution_count": null,
   "metadata": {
    "deletable": false,
    "nbgrader": {
     "cell_type": "code",
     "checksum": "044e2ea56d01e646adffe2e6c8111807",
     "grade": true,
     "grade_id": "cell-a8ac00e9987d4fc7",
     "locked": false,
     "points": 0,
     "schema_version": 3,
     "solution": true,
     "task": false
    }
   },
   "outputs": [],
   "source": [
    "(* Code pour répondre à la question *)\n",
    "\n",
    "(*À remplacer par votre code*)\n",
    "failwith \"Code manquant\""
   ]
  },
  {
   "cell_type": "markdown",
   "metadata": {
    "deletable": false,
    "nbgrader": {
     "cell_type": "markdown",
     "checksum": "80d38e6c04e741c385062933d41e2654",
     "grade": true,
     "grade_id": "cell-9441f3f7bd62c6bb",
     "locked": false,
     "points": 1,
     "schema_version": 3,
     "solution": true,
     "task": false
    }
   },
   "source": [
    "✍️ *Votre réponse*"
   ]
  },
  {
   "cell_type": "markdown",
   "metadata": {
    "deletable": false,
    "editable": false,
    "nbgrader": {
     "cell_type": "markdown",
     "checksum": "2546ec0da222d7768c89e4daf3a04dae",
     "grade": false,
     "grade_id": "cell-92d975713c03713b",
     "locked": true,
     "schema_version": 3,
     "solution": false,
     "task": false
    }
   },
   "source": [
    "## Implémentation d'une file à l'aide d'une liste chaînée circulaire\n",
    "\n",
    "*Remarque : cette implémentation dépasse très probablement le cadre de notre programme.*\n",
    "\n",
    "Une liste chaînée circulaire est une liste chaînée dont le dernier élément pointe vers le premier."
   ]
  },
  {
   "cell_type": "markdown",
   "metadata": {
    "deletable": false,
    "editable": false,
    "nbgrader": {
     "cell_type": "markdown",
     "checksum": "110066ace84beff0bb1dc4e32d674848",
     "grade": false,
     "grade_id": "cell-f53cf1350b40f0c3",
     "locked": true,
     "schema_version": 3,
     "solution": false,
     "task": false
    }
   },
   "source": [
    "<img src=\"data:image/png;base64,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\" width=600/>"
   ]
  },
  {
   "cell_type": "markdown",
   "metadata": {
    "deletable": false,
    "editable": false,
    "nbgrader": {
     "cell_type": "markdown",
     "checksum": "0a9e9523dd95feabca8b4c6394ff037d",
     "grade": false,
     "grade_id": "cell-201c42647ab07cf9",
     "locked": true,
     "schema_version": 3,
     "solution": false,
     "task": false
    }
   },
   "source": [
    "Afin de représenter une telle liste, on définit les types suivants :"
   ]
  },
  {
   "cell_type": "code",
   "execution_count": null,
   "metadata": {
    "deletable": false,
    "editable": false,
    "nbgrader": {
     "cell_type": "code",
     "checksum": "5f885f0950cea590bcaae062fbeeebb1",
     "grade": false,
     "grade_id": "cell-f88639d28031b2c4",
     "locked": true,
     "schema_version": 3,
     "solution": false,
     "task": false
    }
   },
   "outputs": [],
   "source": [
    "type 'a cellule = {valeur: 'a ; mutable suivant: 'a cellule option};;\n",
    "type 'a liste = Nil | Cellule of 'a cellule;;"
   ]
  },
  {
   "cell_type": "markdown",
   "metadata": {
    "deletable": false,
    "editable": false,
    "nbgrader": {
     "cell_type": "markdown",
     "checksum": "1e06de9f2dfd7e445c2b15bc4fcc7cd6",
     "grade": false,
     "grade_id": "cell-9cd15e5f6972dea5",
     "locked": true,
     "schema_version": 3,
     "solution": false,
     "task": false
    }
   },
   "source": [
    "Nous allons utiliser une liste chaînée circulaire pour représenter une file, ce qui amène à définir le type suivant :"
   ]
  },
  {
   "cell_type": "code",
   "execution_count": null,
   "metadata": {
    "deletable": false,
    "editable": false,
    "nbgrader": {
     "cell_type": "code",
     "checksum": "3042aeef56aa08dff6b5cefa77c2714b",
     "grade": false,
     "grade_id": "cell-7b5c9284b780571e",
     "locked": true,
     "schema_version": 3,
     "solution": false,
     "task": false
    }
   },
   "outputs": [],
   "source": [
    "type 'a file = {mutable queue : 'a liste};;"
   ]
  },
  {
   "cell_type": "markdown",
   "metadata": {
    "deletable": false,
    "editable": false,
    "nbgrader": {
     "cell_type": "markdown",
     "checksum": "c30185f6ea36727b78abefae93202f05",
     "grade": false,
     "grade_id": "cell-37ffb4648b2a768d",
     "locked": true,
     "schema_version": 3,
     "solution": false,
     "task": false
    }
   },
   "source": [
    "On pointera sur le dernier élément de la file, autrement dit le dernier élément à être entré. Le premier élément à sortir sera donc l'élément suivant.\n",
    "\n",
    "Par exemple, la liste représentée ci-dessus représentera la file $1-2-3-4-5-6-7$."
   ]
  },
  {
   "cell_type": "markdown",
   "metadata": {
    "deletable": false,
    "editable": false,
    "nbgrader": {
     "cell_type": "markdown",
     "checksum": "9e52c9c36adc5d2c730a4a76339944d1",
     "grade": false,
     "grade_id": "cell-a3ffd56a57980e5d",
     "locked": true,
     "schema_version": 3,
     "solution": false,
     "task": false
    }
   },
   "source": [
    "<font size=\"5\">👨🏿‍💻</font>\n",
    "Écrire une fonction `creer_file : unit -> 'a file` qui renvoie une file vide."
   ]
  },
  {
   "cell_type": "code",
   "execution_count": null,
   "metadata": {
    "deletable": false,
    "nbgrader": {
     "cell_type": "code",
     "checksum": "e43e4d79cbee0e32f02651e5d00071c1",
     "grade": true,
     "grade_id": "cell-f25848622f0acb8f",
     "locked": false,
     "points": 1,
     "schema_version": 3,
     "solution": true,
     "task": false
    }
   },
   "outputs": [],
   "source": [
    "(*À remplacer par votre code*)\n",
    "failwith \"Code manquant\""
   ]
  },
  {
   "cell_type": "markdown",
   "metadata": {
    "deletable": false,
    "editable": false,
    "nbgrader": {
     "cell_type": "markdown",
     "checksum": "a15a50f53243df50b86501d114d26610",
     "grade": false,
     "grade_id": "cell-c602973c71681579",
     "locked": true,
     "schema_version": 3,
     "solution": false,
     "task": false
    }
   },
   "source": [
    "<font size=\"5\">👩‍💻</font>\n",
    "Écrire une fonction `est_vide : 'a file -> bool` qui renvoie `true` si la liste est vide, `false` sinon."
   ]
  },
  {
   "cell_type": "code",
   "execution_count": null,
   "metadata": {
    "deletable": false,
    "nbgrader": {
     "cell_type": "code",
     "checksum": "b879e73807baa2cd7c7dce3437898ab1",
     "grade": true,
     "grade_id": "cell-06056008f8cb6bad",
     "locked": false,
     "points": 1,
     "schema_version": 3,
     "solution": true,
     "task": false
    }
   },
   "outputs": [],
   "source": [
    "(*À remplacer par votre code*)\n",
    "failwith \"Code manquant\""
   ]
  },
  {
   "cell_type": "markdown",
   "metadata": {
    "deletable": false,
    "editable": false,
    "nbgrader": {
     "cell_type": "markdown",
     "checksum": "46c615c4708fea50fa95c5d54d8225ac",
     "grade": false,
     "grade_id": "cell-239059e7f2646b7b",
     "locked": true,
     "schema_version": 3,
     "solution": false,
     "task": false
    }
   },
   "source": [
    "<font size=\"5\">👨🏼‍💻</font>\n",
    "Écrire une fonction `un_seul_element : 'a file -> bool` qui renvoie `true` si la file ne contient qu'un élément, `false` sinon.\n",
    "\n",
    "*La file ne contient qu'un seul élément si elle est non vide et que sa cellule de queue a pour élément suivant elle-même...*"
   ]
  },
  {
   "cell_type": "code",
   "execution_count": null,
   "metadata": {
    "deletable": false,
    "nbgrader": {
     "cell_type": "code",
     "checksum": "5f4333c80b326da062037f128870e50a",
     "grade": true,
     "grade_id": "cell-a27c2bb21bca0807",
     "locked": false,
     "points": 1,
     "schema_version": 3,
     "solution": true,
     "task": false
    }
   },
   "outputs": [],
   "source": [
    "(*À remplacer par votre code*)\n",
    "failwith \"Code manquant\""
   ]
  },
  {
   "cell_type": "markdown",
   "metadata": {
    "deletable": false,
    "editable": false,
    "nbgrader": {
     "cell_type": "markdown",
     "checksum": "d6245e45b107478fd025c3635e97819b",
     "grade": false,
     "grade_id": "cell-1a8497cb2aee03f9",
     "locked": true,
     "schema_version": 3,
     "solution": false,
     "task": false
    }
   },
   "source": [
    "  <font size=\"5\">👨🏻‍💻</font>\n",
    "Écrire une fonction `defiler : 'a file -> 'a` qui supprime et renvoie l'élément en début de file."
   ]
  },
  {
   "cell_type": "code",
   "execution_count": null,
   "metadata": {
    "deletable": false,
    "nbgrader": {
     "cell_type": "code",
     "checksum": "8b5a233a604aae29c6905d69a24f7318",
     "grade": true,
     "grade_id": "cell-10eeedb14a4fb0fa",
     "locked": false,
     "points": 1,
     "schema_version": 3,
     "solution": true,
     "task": false
    }
   },
   "outputs": [],
   "source": [
    "(*À remplacer par votre code*)\n",
    "failwith \"Code manquant\""
   ]
  },
  {
   "cell_type": "markdown",
   "metadata": {
    "deletable": false,
    "editable": false,
    "nbgrader": {
     "cell_type": "markdown",
     "checksum": "30b37fc037f1ac680efbab0040418833",
     "grade": false,
     "grade_id": "cell-b725e576147aae93",
     "locked": true,
     "schema_version": 3,
     "solution": false,
     "task": false
    }
   },
   "source": [
    "<font size=\"5\">👩🏾‍💻</font>\n",
    " Écrire une fonction `enfiler : 'a -> 'a file -> unit` qui ajoute un élément dans la file."
   ]
  },
  {
   "cell_type": "code",
   "execution_count": null,
   "metadata": {
    "deletable": false,
    "nbgrader": {
     "cell_type": "code",
     "checksum": "f1478e5a7e37dfe9a673c115542ff121",
     "grade": true,
     "grade_id": "cell-64fb5bff4d6f84e5",
     "locked": false,
     "points": 1,
     "schema_version": 3,
     "solution": true,
     "task": false
    }
   },
   "outputs": [],
   "source": [
    "(*À remplacer par votre code*)\n",
    "failwith \"Code manquant\""
   ]
  },
  {
   "cell_type": "markdown",
   "metadata": {
    "deletable": false,
    "editable": false,
    "nbgrader": {
     "cell_type": "markdown",
     "checksum": "43418edbe20c02bb1d20087122ab69a7",
     "grade": false,
     "grade_id": "cell-5fd0ff4dded20e1c",
     "locked": true,
     "schema_version": 3,
     "solution": false,
     "task": false
    }
   },
   "source": [
    "<font size=\"5\">👩🏿‍💻</font> Tester vos fonctions avec le même protocole que dans l'exercice précédent."
   ]
  },
  {
   "cell_type": "code",
   "execution_count": null,
   "metadata": {
    "deletable": false,
    "nbgrader": {
     "cell_type": "code",
     "checksum": "a85e48c911ac34cf7c7973e2958021b3",
     "grade": true,
     "grade_id": "cell-2203c6727e93f100",
     "locked": false,
     "points": 0,
     "schema_version": 3,
     "solution": true,
     "task": false
    }
   },
   "outputs": [],
   "source": [
    "(*À remplacer par votre code*)\n",
    "failwith \"Code manquant\""
   ]
  }
 ],
 "metadata": {
  "kernelspec": {
   "display_name": "OCaml default",
   "language": "OCaml",
   "name": "ocaml-jupyter-default"
  },
  "language_info": {
   "codemirror_mode": "text/x-ocaml",
   "file_extension": ".ml",
   "mimetype": "text/x-ocaml",
   "name": "OCaml",
   "nbconverter_exporter": null,
   "pygments_lexer": "OCaml",
   "version": "4.14.2"
  }
 },
 "nbformat": 4,
 "nbformat_minor": 4
}
