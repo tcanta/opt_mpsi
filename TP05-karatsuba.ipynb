{
 "cells": [
  {
   "cell_type": "markdown",
   "metadata": {
    "deletable": false,
    "editable": false,
    "nbgrader": {
     "cell_type": "markdown",
     "checksum": "f1a59e59a7ef58d3074eeec957cb46ee",
     "grade": false,
     "grade_id": "cell-5dfca9c3dfa47a85",
     "locked": true,
     "schema_version": 3,
     "solution": false,
     "task": false
    }
   },
   "source": [
    "La cellule suivante sert à charger les fonctions nécessaires à l'exécution des tests pour les fonctions du TP. N'oubliez donc pas de l'exécuter."
   ]
  },
  {
   "cell_type": "code",
   "execution_count": 1,
   "metadata": {
    "deletable": false,
    "editable": false,
    "nbgrader": {
     "cell_type": "code",
     "checksum": "688e097a0779864d437e308d9531be39",
     "grade": false,
     "grade_id": "cell-c74f4989140ee1a2",
     "locked": true,
     "schema_version": 3,
     "solution": false,
     "task": false
    }
   },
   "outputs": [
    {
     "data": {
      "text/plain": [
       "- : unit = ()\n"
      ]
     },
     "execution_count": 1,
     "metadata": {},
     "output_type": "execute_result"
    },
    {
     "data": {
      "text/plain": [
       "module Utils :\n",
       "  sig\n",
       "    val fonction_test : string -> bool -> bool\n",
       "    val test_liste :\n",
       "      ('a -> 'b -> bool) ->\n",
       "      ('c -> string) -> ('c -> 'a) -> ('c * 'b) list -> unit\n",
       "    val test_liste_avec_nom :\n",
       "      ('a -> 'b -> bool) -> ('c -> 'a) -> (string * 'c * 'b) list -> unit\n",
       "    val uncurry2 : ('a -> 'b -> 'c) -> 'a * 'b -> 'c\n",
       "    val uncurry3 : ('a -> 'b -> 'c -> 'd) -> 'a * 'b * 'c -> 'd\n",
       "    val print_int_liste : int list -> string\n",
       "    val print_int_array : int array -> string\n",
       "    val print_poly : int array -> string\n",
       "  end\n"
      ]
     },
     "execution_count": 1,
     "metadata": {},
     "output_type": "execute_result"
    },
    {
     "data": {
      "text/plain": [
       "module Test :\n",
       "  sig\n",
       "    val produit : (int array -> int array -> int array) -> unit\n",
       "    val karatsuba : (int array -> int array -> int array) -> unit\n",
       "  end\n"
      ]
     },
     "execution_count": 1,
     "metadata": {},
     "output_type": "execute_result"
    }
   ],
   "source": [
    "Random.self_init ();;\n",
    "\n",
    "module Utils = struct\n",
    "  let fonction_test nom b =\n",
    "    let () = print_endline (Printf.sprintf \"%s : %s\" nom (if b then \"\\027[1m\\027[32mOK\\027[0m\" else \"\\027[1m\\027[31méchec\\027[0m\"))\n",
    "    in b\n",
    "\n",
    "  let rec test_liste comp pretty_print f lst  =    \n",
    "    let rec loop lst ok total =\n",
    "      match lst with\n",
    "      | [] -> ok, total\n",
    "      | (t,tt)::q ->\n",
    "        loop q (ok + if fonction_test (pretty_print t) (comp (f t) tt) then 1 else 0) (total + 1) \n",
    "    in     \n",
    "    let ok, total = loop lst 0 0 in\n",
    "    print_endline (Printf.sprintf \"%i/%i tests réussis\" ok total)\n",
    "     \n",
    "  let rec test_liste_avec_nom comp f lst = \n",
    "    let rec loop lst ok total =\n",
    "      match lst with\n",
    "      | [] -> ok, total\n",
    "      | (nom, t, tt)::q ->\n",
    "        loop q (ok + if fonction_test nom (comp (f t) tt) then 1 else 0) (total + 1) \n",
    "    in     \n",
    "    let ok, total = loop lst 0 0 in\n",
    "    print_endline (Printf.sprintf \"%i/%i tests réussis\" ok total)\n",
    "    \n",
    "  let uncurry2 f (x,y) = f x y      \n",
    "  let uncurry3 f (x,y,z) = f x y z\n",
    "\n",
    "  let print_int_liste l = List.map string_of_int  l |> String.concat \"; \" |> Printf.sprintf \"[%s]\"      \n",
    "  let print_int_array a = Array.to_list a |> List.map string_of_int |> String.concat \"; \" |> Printf.sprintf \"[|%s|]\"\n",
    "  let print_poly a = Array.to_list a |> List.mapi (fun i a -> string_of_int a ^\"X^\"^(string_of_int i)) |> String.concat \"+\"\n",
    "  \n",
    "end \n",
    "\n",
    "\n",
    "module Test = struct  \n",
    "\n",
    "  let produit f =\n",
    "    (* Exécutez cette cellule pour tester votre réponse *)\n",
    "    let pretty_print (p1, p2) = Printf.sprintf \"Produit (%s)(%s)\" (Utils.print_poly p1)  (Utils.print_poly p2) in\n",
    "    let tests = [(([|-1; 0; 1|],[|1; 0; 1|]), [|-1; 0; 0; 0; 1|]); (([|-2; 1; 0; 0|], [|1; 2; 2; 1|]),[|-2; -3; -2; 0; 1; 0; 0|])] in\n",
    "    Utils.test_liste (=) pretty_print (Utils.uncurry2 f) tests\n",
    "     \n",
    "     (* Exécutez cette cellule pour tester votre réponse *)\n",
    "   let karatsuba f =     \n",
    "    let pretty_print (p1, p2) = Printf.sprintf \"Produit (%s)(%s)\" (Utils.print_poly p1)  (Utils.print_poly p2) in\n",
    "    let tests = [(([|-1; 0; 1|],[|1; 0; 1|]), [|-1; 0; 0; 0; 1|]); (([|-2; 1; 0; 0|], [|1; 2; 2; 1|]),[|-2; -3; -2; 0; 1; 0; 0|])] in\n",
    "    let tests_avec_nom = List.map (fun (t,tt) -> (pretty_print t, t, tt)) tests in\n",
    "    let n = 10000 in\n",
    "    let p1, p2, p3 = Array.make n 0, Array.make n 1, Array.make (2*n-1) 1 in\n",
    "    p1.(0) <- 1 ; p1.(n-1) <- 1 ; p2.(0) <- 0 ; p3.(0) <- 0;\n",
    "    Utils.test_liste_avec_nom (=) (Utils.uncurry2 f) (tests_avec_nom@[(\"Un dernier (gros) produit\", (p1,p2), p3)])  \n",
    "\n",
    "end"
   ]
  },
  {
   "cell_type": "markdown",
   "metadata": {
    "deletable": false,
    "editable": false,
    "nbgrader": {
     "cell_type": "markdown",
     "checksum": "1f0564336e2cf43ea080aa66be02d73c",
     "grade": false,
     "grade_id": "cell-ca066b4e911e4491",
     "locked": true,
     "schema_version": 3,
     "solution": false,
     "task": false
    }
   },
   "source": [
    "# Multiplication de polynômes - Algorithme de Karatsuba"
   ]
  },
  {
   "cell_type": "markdown",
   "metadata": {
    "deletable": false,
    "editable": false,
    "nbgrader": {
     "cell_type": "markdown",
     "checksum": "d98bd7ee8871ebb092c93f695682ce5a",
     "grade": false,
     "grade_id": "cell-b0accf7398d381d6",
     "locked": true,
     "schema_version": 3,
     "solution": false,
     "task": false
    }
   },
   "source": [
    "<font size =5>⚠️ </font> **Prenez soin d'écrire des algorithmes avec une complexité raisonnable, et penser à sauvegarder régulièrement : mal écrites, certaines fonctions risquent de faire planter votre navigateur lors des tests**."
   ]
  },
  {
   "cell_type": "markdown",
   "metadata": {
    "deletable": false,
    "editable": false,
    "nbgrader": {
     "cell_type": "markdown",
     "checksum": "e1ffff262df380d1c225a5f1f46439ed",
     "grade": false,
     "grade_id": "cell-893a9be745c426cc",
     "locked": true,
     "schema_version": 3,
     "solution": false,
     "task": false
    }
   },
   "source": [
    "Soit $n \\in \\mathbb{N}^*$. On représente un polynôme $P = \\displaystyle \\sum_{k=0}^{n-1} a_k X^k$ de degré au plus $n-1$ par un tableau de ses coefficients $[|a_0;\\dots;a_{n-1}|]$.\n",
    "\n",
    "On souhaite écrire un algorithme effectuant la multiplication de deux polynômes $P$ et $Q$ de degré au plus $n-1$.\n",
    "\n",
    "<font size=\"5\">👨🏿‍💻</font> Écrire une fonction `produit_naif : int array -> int array -> int array` implémentant un algorithme naïf. \n",
    "\n",
    "On pourra supposer que les deux tableaux sont de même longueur $n$."
   ]
  },
  {
   "cell_type": "code",
   "execution_count": null,
   "metadata": {
    "deletable": false,
    "nbgrader": {
     "cell_type": "code",
     "checksum": "c06caa2d44ececd226b4ac4b9081743e",
     "grade": false,
     "grade_id": "cell-c28e7f0fd0559336",
     "locked": false,
     "schema_version": 3,
     "solution": true,
     "task": false
    }
   },
   "outputs": [],
   "source": [
    "(*À remplacer par votre code*)\n",
    "failwith \"Code manquant\""
   ]
  },
  {
   "cell_type": "markdown",
   "metadata": {
    "deletable": false,
    "editable": false,
    "nbgrader": {
     "cell_type": "markdown",
     "checksum": "567af4bca3c6985c969804689b863252",
     "grade": false,
     "grade_id": "cell-35dc64fa19e2245a",
     "locked": true,
     "schema_version": 3,
     "solution": false,
     "task": false
    }
   },
   "source": [
    "**Tests personnels**"
   ]
  },
  {
   "cell_type": "code",
   "execution_count": null,
   "metadata": {},
   "outputs": [],
   "source": [
    "(* Utiliser la cellule pour exécuter quelques appels et vérifier les résultats obtenus *)"
   ]
  },
  {
   "cell_type": "markdown",
   "metadata": {
    "deletable": false,
    "editable": false,
    "nbgrader": {
     "cell_type": "markdown",
     "checksum": "1abdb76b11372eb2d5d76d3510409a87",
     "grade": false,
     "grade_id": "cell-2d05cb5812cdaaf8",
     "locked": true,
     "schema_version": 3,
     "solution": false,
     "task": false
    }
   },
   "source": [
    "**Tests automatiques**"
   ]
  },
  {
   "cell_type": "code",
   "execution_count": null,
   "metadata": {
    "deletable": false,
    "editable": false,
    "nbgrader": {
     "cell_type": "code",
     "checksum": "72e02c5785f0c2994f71bdcaa9b04c5a",
     "grade": true,
     "grade_id": "cell-73910be4f14daadd",
     "locked": true,
     "points": 1,
     "schema_version": 3,
     "solution": false,
     "task": false
    }
   },
   "outputs": [],
   "source": [
    "let () = Test.produit produit_naif;;"
   ]
  },
  {
   "cell_type": "markdown",
   "metadata": {
    "deletable": false,
    "editable": false,
    "nbgrader": {
     "cell_type": "markdown",
     "checksum": "76b38f5bb10c17626aee621adefa3096",
     "grade": false,
     "grade_id": "cell-d066461c6abfebc1",
     "locked": true,
     "schema_version": 3,
     "solution": false,
     "task": false
    }
   },
   "source": [
    "<font size=\"5\">❓</font> Donner sa complexité."
   ]
  },
  {
   "cell_type": "markdown",
   "metadata": {
    "deletable": false,
    "nbgrader": {
     "cell_type": "markdown",
     "checksum": "b08d1dd7e72401c98ec5541ba5216aa7",
     "grade": true,
     "grade_id": "cell-04295067fb4c9dfc",
     "locked": false,
     "points": 0,
     "schema_version": 3,
     "solution": true,
     "task": false
    }
   },
   "source": [
    "✍️ *Votre réponse*"
   ]
  },
  {
   "cell_type": "markdown",
   "metadata": {
    "deletable": false,
    "editable": false,
    "nbgrader": {
     "cell_type": "markdown",
     "checksum": "31b959b7ac2031a009cbff6892d9f4e7",
     "grade": false,
     "grade_id": "cell-9b5bc6a6200abc4e",
     "locked": true,
     "schema_version": 3,
     "solution": false,
     "task": false
    }
   },
   "source": [
    "<font size=\"5\">❓</font> Soit $\\displaystyle m=\\left\\lceil \\frac{n}{2} \\right\\rceil$. $P$ et $Q$ se décomposent de manière unique en :\n",
    "$$P=P_0+P_1X^m \\qquad ; \\qquad Q=Q_0+Q_1X^m$$\n",
    "avec $P_0$, $P_1$, $Q_0$, $Q_1$ des polynômes de degrés strictement inférieurs à $m$.\n",
    "        \n",
    "        \n",
    "Exprimer le produit $PQ$ en fonction de ces polynômes.\n",
    "        "
   ]
  },
  {
   "cell_type": "markdown",
   "metadata": {
    "deletable": false,
    "nbgrader": {
     "cell_type": "markdown",
     "checksum": "27d8bab3775fbed26dd8eb478a3098a4",
     "grade": true,
     "grade_id": "cell-996fa8a939f8523e",
     "locked": false,
     "points": 0,
     "schema_version": 3,
     "solution": true,
     "task": false
    }
   },
   "source": [
    "✍️ *Votre réponse*"
   ]
  },
  {
   "cell_type": "markdown",
   "metadata": {
    "deletable": false,
    "editable": false,
    "nbgrader": {
     "cell_type": "markdown",
     "checksum": "e6ebf734d99f1d4c204a27d64bd84fba",
     "grade": false,
     "grade_id": "cell-b5e3cfe0e42f9aa1",
     "locked": true,
     "schema_version": 3,
     "solution": false,
     "task": false
    }
   },
   "source": [
    "<font size=\"5\">❓</font> Transformer cette expression en une expression qui ne fasse intervenir que trois multiplications de polynômes de degré strictement inférieur à $m$ (et des multiplications par des puissances de $X$, ainsi que des sommes et différences de polynômes)."
   ]
  },
  {
   "cell_type": "markdown",
   "metadata": {
    "deletable": false,
    "nbgrader": {
     "cell_type": "markdown",
     "checksum": "6bc96ea3d20c1111812cd1daa094b00c",
     "grade": true,
     "grade_id": "cell-bfb59160cbe89222",
     "locked": false,
     "points": 0,
     "schema_version": 3,
     "solution": true,
     "task": false
    }
   },
   "source": [
    "✍️ *Votre réponse*"
   ]
  },
  {
   "cell_type": "markdown",
   "metadata": {
    "deletable": false,
    "editable": false,
    "nbgrader": {
     "cell_type": "markdown",
     "checksum": "cb84ca6cc4d23dceba367009399326ef",
     "grade": false,
     "grade_id": "cell-1eca93df675bb6d6",
     "locked": true,
     "schema_version": 3,
     "solution": false,
     "task": false
    }
   },
   "source": [
    "<font size=\"5\">👩🏼‍💻</font> Écrire une fonction `decoupe : int array -> int array * int array` qui prend en argument le tableau représentant le polynôme $P$ et calculant le couple de tableaux représentant $(P_0, P_1)$.\n",
    "\n",
    "On pourrait remarquer que pour tout entier $n$, $\\left\\lceil \\frac{n}{2} \\right\\rceil = \\left\\lfloor \\frac{n+1}{2} \\right\\rfloor$."
   ]
  },
  {
   "cell_type": "code",
   "execution_count": null,
   "metadata": {
    "deletable": false,
    "nbgrader": {
     "cell_type": "code",
     "checksum": "424a8c9f27dd26fcc2894fde3b8a8608",
     "grade": false,
     "grade_id": "cell-38f456259e5cda21",
     "locked": false,
     "schema_version": 3,
     "solution": true,
     "task": false
    }
   },
   "outputs": [],
   "source": [
    "(*À remplacer par votre code*)\n",
    "failwith \"Code manquant\""
   ]
  },
  {
   "cell_type": "markdown",
   "metadata": {
    "deletable": false,
    "editable": false,
    "nbgrader": {
     "cell_type": "markdown",
     "checksum": "cee5f9afb3b906c933e5bc05117502f1",
     "grade": false,
     "grade_id": "cell-d7cd3f1bfb331239",
     "locked": true,
     "schema_version": 3,
     "solution": false,
     "task": false
    }
   },
   "source": [
    "**Tests personnels**"
   ]
  },
  {
   "cell_type": "code",
   "execution_count": null,
   "metadata": {},
   "outputs": [],
   "source": [
    "(* Utiliser la cellule pour exécuter quelques appels et vérifier les résultats obtenus *)"
   ]
  },
  {
   "cell_type": "markdown",
   "metadata": {
    "deletable": false,
    "editable": false,
    "nbgrader": {
     "cell_type": "markdown",
     "checksum": "4f63194fdfd07f38c9af4a2c956f9346",
     "grade": false,
     "grade_id": "cell-418bab87d3eb54a3",
     "locked": true,
     "schema_version": 3,
     "solution": false,
     "task": false
    }
   },
   "source": [
    "<font size=\"5\">❓</font> Quelle est la complexité de la fonction `decoupe` en fonction de la longueur $n$ du tableau ?"
   ]
  },
  {
   "cell_type": "markdown",
   "metadata": {
    "deletable": false,
    "nbgrader": {
     "cell_type": "markdown",
     "checksum": "24b761f159ed2748020f82647ba47660",
     "grade": true,
     "grade_id": "cell-bcaf8cc3be0903af",
     "locked": false,
     "points": 0,
     "schema_version": 3,
     "solution": true,
     "task": false
    }
   },
   "source": [
    "✍️ *Votre réponse*"
   ]
  },
  {
   "cell_type": "markdown",
   "metadata": {
    "deletable": false,
    "editable": false,
    "nbgrader": {
     "cell_type": "markdown",
     "checksum": "1cc3e344c7877449bf1eba3ee08f269c",
     "grade": false,
     "grade_id": "cell-30209f36b8c047d7",
     "locked": true,
     "schema_version": 3,
     "solution": false,
     "task": false
    }
   },
   "source": [
    "<font size=\"5\">👨🏽‍💻</font> Écrire une fonction `somme : int array -> int array -> int array` et une fonction `difference : int array -> int array -> int array` prenant en argument deux tableaux représentant des polynômes (pas forcément de même longueur) et calculant les tableaux représentant leur somme et leur différence."
   ]
  },
  {
   "cell_type": "code",
   "execution_count": null,
   "metadata": {
    "deletable": false,
    "nbgrader": {
     "cell_type": "code",
     "checksum": "55c440c1d30bd9aacad3bf41d2cf9931",
     "grade": false,
     "grade_id": "cell-47ae55f88824377c",
     "locked": false,
     "schema_version": 3,
     "solution": true,
     "task": false
    }
   },
   "outputs": [],
   "source": [
    "(*À remplacer par votre code*)\n",
    "failwith \"Code manquant\""
   ]
  },
  {
   "cell_type": "markdown",
   "metadata": {
    "deletable": false,
    "editable": false,
    "nbgrader": {
     "cell_type": "markdown",
     "checksum": "61e2a9d506ec4a1a4ee2da2fb5d8a3ab",
     "grade": false,
     "grade_id": "cell-30f7321377e83b33",
     "locked": true,
     "schema_version": 3,
     "solution": false,
     "task": false
    }
   },
   "source": [
    "<font size=\"5\">❓</font> Quelle est leur complexité en fonction des longueurs $n_1$ et $n_2$ des deux tableaux ?"
   ]
  },
  {
   "cell_type": "markdown",
   "metadata": {
    "deletable": false,
    "nbgrader": {
     "cell_type": "markdown",
     "checksum": "4ba2bb74fbeb4b952844564bdbb3e010",
     "grade": true,
     "grade_id": "cell-1cd9a08e4b8823c9",
     "locked": false,
     "points": 0,
     "schema_version": 3,
     "solution": true,
     "task": false
    }
   },
   "source": [
    "✍️ *Votre réponse*"
   ]
  },
  {
   "cell_type": "markdown",
   "metadata": {
    "deletable": false,
    "editable": false,
    "nbgrader": {
     "cell_type": "markdown",
     "checksum": "b3717968d8dde9170d2ce910e5840e39",
     "grade": false,
     "grade_id": "cell-b6b462a02986790f",
     "locked": true,
     "schema_version": 3,
     "solution": false,
     "task": false
    }
   },
   "source": [
    "**Tests personnels**"
   ]
  },
  {
   "cell_type": "code",
   "execution_count": null,
   "metadata": {},
   "outputs": [],
   "source": [
    "(* Utiliser la cellule pour exécuter quelques appels et vérifier les résultats obtenus *)"
   ]
  },
  {
   "cell_type": "markdown",
   "metadata": {
    "deletable": false,
    "editable": false,
    "nbgrader": {
     "cell_type": "markdown",
     "checksum": "39871c16217d38453ed2aa87077e3c1c",
     "grade": false,
     "grade_id": "cell-cc4805e541aff9ea",
     "locked": true,
     "schema_version": 3,
     "solution": false,
     "task": false
    }
   },
   "source": [
    "<font size=\"5\">👨🏻‍💻</font>En déduire une fonction **récursive** `karatsuba : int array -> int array -> int array` implémentant un algorithme efficace de produit de polynômes.\n",
    "\n",
    "On supposera que les deux tableaux ont la même longueur."
   ]
  },
  {
   "cell_type": "code",
   "execution_count": null,
   "metadata": {
    "deletable": false,
    "nbgrader": {
     "cell_type": "code",
     "checksum": "0846320364aa69227c871eb51d63078c",
     "grade": false,
     "grade_id": "cell-a82fa7dc5f0e7144",
     "locked": false,
     "schema_version": 3,
     "solution": true,
     "task": false
    }
   },
   "outputs": [],
   "source": [
    "(*À remplacer par votre code*)\n",
    "failwith \"Code manquant\""
   ]
  },
  {
   "cell_type": "markdown",
   "metadata": {
    "deletable": false,
    "editable": false,
    "nbgrader": {
     "cell_type": "markdown",
     "checksum": "60490646d5b3346d8513d31fed8ea63a",
     "grade": false,
     "grade_id": "cell-1f0915f33642d108",
     "locked": true,
     "schema_version": 3,
     "solution": false,
     "task": false
    }
   },
   "source": [
    "**Tests personnels**"
   ]
  },
  {
   "cell_type": "code",
   "execution_count": null,
   "metadata": {},
   "outputs": [],
   "source": [
    "(* Utiliser la cellule pour exécuter quelques appels et vérifier les résultats obtenus *)"
   ]
  },
  {
   "cell_type": "markdown",
   "metadata": {
    "deletable": false,
    "editable": false,
    "nbgrader": {
     "cell_type": "markdown",
     "checksum": "c9559e3b5f4793669852679fdf407575",
     "grade": false,
     "grade_id": "cell-8be0729d3d344dd9",
     "locked": true,
     "schema_version": 3,
     "solution": false,
     "task": false
    }
   },
   "source": [
    "**Tests automatiques**"
   ]
  },
  {
   "cell_type": "markdown",
   "metadata": {
    "deletable": false,
    "editable": false,
    "nbgrader": {
     "cell_type": "markdown",
     "checksum": "7fb1ee533f9d2f20f258ddfade76b078",
     "grade": false,
     "grade_id": "cell-2c78390b3f3d57e7",
     "locked": true,
     "schema_version": 3,
     "solution": false,
     "task": false
    }
   },
   "source": [
    "<center><font size =3>⚠️ <strong>Pensez à sauvegarder</strong>⚠️ </font></center>"
   ]
  },
  {
   "cell_type": "code",
   "execution_count": null,
   "metadata": {
    "deletable": false,
    "editable": false,
    "nbgrader": {
     "cell_type": "code",
     "checksum": "81ba8f74e690cee98a0d6d2996687caa",
     "grade": true,
     "grade_id": "cell-ffb59c04a02f6dda",
     "locked": true,
     "points": 0,
     "schema_version": 3,
     "solution": false,
     "task": false
    }
   },
   "outputs": [],
   "source": [
    "let () = Test.karatsuba karatsuba;;"
   ]
  },
  {
   "cell_type": "markdown",
   "metadata": {
    "deletable": false,
    "editable": false,
    "nbgrader": {
     "cell_type": "markdown",
     "checksum": "27688ad2ce8be369694da5bba02c3279",
     "grade": false,
     "grade_id": "cell-a5438d09187b80a6",
     "locked": true,
     "schema_version": 3,
     "solution": false,
     "task": false
    }
   },
   "source": [
    "<font size=\"5\">❓</font>  Pour tout $n \\in \\mathbb N$, on note $C(n)$ la complexité de la fonction précédente pour des tableaux de longueur au plus $n$.\n",
    "\n",
    "Justifier qu'il existe un réel positif $\\alpha$ tel que pour tout $n \\geqslant 2$,\n",
    "$$C(n) \\leqslant 2C \\left( \\left\\lceil \\frac{n}{2}\\right\\rceil \\right) + C\\left( \\left\\lfloor \\frac{n}{2} \\right\\rfloor \\right) + \\alpha n$$"
   ]
  },
  {
   "cell_type": "markdown",
   "metadata": {
    "deletable": false,
    "nbgrader": {
     "cell_type": "markdown",
     "checksum": "04d138612b70faf4a7187e39ab6786ab",
     "grade": true,
     "grade_id": "cell-0c98dcb4452676cb",
     "locked": false,
     "points": 0,
     "schema_version": 3,
     "solution": true,
     "task": false
    }
   },
   "source": [
    "✍️ *Votre réponse*"
   ]
  },
  {
   "cell_type": "markdown",
   "metadata": {
    "deletable": false,
    "editable": false,
    "nbgrader": {
     "cell_type": "markdown",
     "checksum": "416e7b90011b763b6b9f4d042a8e9432",
     "grade": false,
     "grade_id": "cell-06dff0773d5d4a7c",
     "locked": true,
     "schema_version": 3,
     "solution": false,
     "task": false
    }
   },
   "source": [
    "<font size=\"5\">❓</font> En déduire que $C(n) = O (n^{\\mathrm{log}_2(3)})$. On pourra pour cela s'intéresser à la suite $u$ définie pour tout $n \\in \\mathbb N$ par $u_n = \\frac{C(2^n)}{3^n}$."
   ]
  },
  {
   "cell_type": "markdown",
   "metadata": {
    "deletable": false,
    "nbgrader": {
     "cell_type": "markdown",
     "checksum": "6d058e671091ba13c8239f2b0a04a8af",
     "grade": true,
     "grade_id": "cell-ec6b1c36d0736c33",
     "locked": false,
     "points": 0,
     "schema_version": 3,
     "solution": true,
     "task": false
    }
   },
   "source": [
    "✍️ *Votre réponse*"
   ]
  },
  {
   "cell_type": "markdown",
   "metadata": {
    "deletable": false,
    "editable": false,
    "nbgrader": {
     "cell_type": "markdown",
     "checksum": "91abf475dfae00a3fe20a4b04dd312a6",
     "grade": false,
     "grade_id": "cell-a1fbb61743b7de60",
     "locked": true,
     "schema_version": 3,
     "solution": false,
     "task": false
    }
   },
   "source": [
    "<font size=\"5\">❓</font> Lequel de ces deux algorithmes est le plus efficace ?"
   ]
  },
  {
   "cell_type": "markdown",
   "metadata": {
    "deletable": false,
    "nbgrader": {
     "cell_type": "markdown",
     "checksum": "e91e0b612b03a9323ab6ab78dcddb670",
     "grade": true,
     "grade_id": "cell-fc4c5085dad1bd81",
     "locked": false,
     "points": 0,
     "schema_version": 3,
     "solution": true,
     "task": false
    }
   },
   "source": [
    "✍️ *Votre réponse*"
   ]
  }
 ],
 "metadata": {
  "kernelspec": {
   "display_name": "OCaml default",
   "language": "OCaml",
   "name": "ocaml-jupyter-default"
  },
  "language_info": {
   "codemirror_mode": "text/x-ocaml",
   "file_extension": ".ml",
   "mimetype": "text/x-ocaml",
   "name": "OCaml",
   "nbconverter_exporter": null,
   "pygments_lexer": "OCaml",
   "version": "4.14.2"
  }
 },
 "nbformat": 4,
 "nbformat_minor": 4
}
